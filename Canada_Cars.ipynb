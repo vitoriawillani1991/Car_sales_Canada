{
 "cells": [
  {
   "attachments": {},
   "cell_type": "markdown",
   "metadata": {},
   "source": [
    "# About the project\n",
    "### I used data contaning the models with a higher number of sales in Canada between 2019 and 2021 for this project.\n",
    "\n",
    "### Some questions I'm interested in addressing:\n",
    "### Which car brands are the most well-known?\n",
    "### Do Canadians favour a particular class of vehicle?\n",
    "### What are the most well-liked car models?"
   ]
  },
  {
   "attachments": {},
   "cell_type": "markdown",
   "metadata": {},
   "source": [
    "## Importing the librarys"
   ]
  },
  {
   "cell_type": "code",
   "execution_count": 12,
   "metadata": {},
   "outputs": [],
   "source": [
    "import pandas as pd\n",
    "import numpy as np\n",
    "import plotly.express as px\n",
    "import xgboost as xgb\n",
    "import matplotlib as plt"
   ]
  },
  {
   "attachments": {},
   "cell_type": "markdown",
   "metadata": {},
   "source": [
    "## Importing the data"
   ]
  },
  {
   "cell_type": "code",
   "execution_count": 5,
   "metadata": {},
   "outputs": [
    {
     "data": {
      "text/html": [
       "<div>\n",
       "<style scoped>\n",
       "    .dataframe tbody tr th:only-of-type {\n",
       "        vertical-align: middle;\n",
       "    }\n",
       "\n",
       "    .dataframe tbody tr th {\n",
       "        vertical-align: top;\n",
       "    }\n",
       "\n",
       "    .dataframe thead th {\n",
       "        text-align: right;\n",
       "    }\n",
       "</style>\n",
       "<table border=\"1\" class=\"dataframe\">\n",
       "  <thead>\n",
       "    <tr style=\"text-align: right;\">\n",
       "      <th></th>\n",
       "      <th>Model</th>\n",
       "      <th>Jan</th>\n",
       "      <th>Feb</th>\n",
       "      <th>Mar</th>\n",
       "      <th>Apr</th>\n",
       "      <th>May</th>\n",
       "      <th>Jun</th>\n",
       "      <th>Jul</th>\n",
       "      <th>Aug</th>\n",
       "      <th>Sep</th>\n",
       "      <th>Oct</th>\n",
       "      <th>Nov</th>\n",
       "      <th>Dec</th>\n",
       "      <th>Sumofsales</th>\n",
       "      <th>Category</th>\n",
       "      <th>Year</th>\n",
       "    </tr>\n",
       "  </thead>\n",
       "  <tbody>\n",
       "    <tr>\n",
       "      <th>0</th>\n",
       "      <td>Acura MDX</td>\n",
       "      <td>93</td>\n",
       "      <td>389</td>\n",
       "      <td>782</td>\n",
       "      <td>611</td>\n",
       "      <td>550</td>\n",
       "      <td>501</td>\n",
       "      <td>0</td>\n",
       "      <td>0</td>\n",
       "      <td>0</td>\n",
       "      <td>0</td>\n",
       "      <td>0</td>\n",
       "      <td>0</td>\n",
       "      <td>2926</td>\n",
       "      <td>MLS</td>\n",
       "      <td>2021</td>\n",
       "    </tr>\n",
       "    <tr>\n",
       "      <th>1</th>\n",
       "      <td>Audi Q7</td>\n",
       "      <td>210</td>\n",
       "      <td>210</td>\n",
       "      <td>236</td>\n",
       "      <td>303</td>\n",
       "      <td>292</td>\n",
       "      <td>303</td>\n",
       "      <td>0</td>\n",
       "      <td>0</td>\n",
       "      <td>0</td>\n",
       "      <td>0</td>\n",
       "      <td>0</td>\n",
       "      <td>0</td>\n",
       "      <td>1554</td>\n",
       "      <td>MLS</td>\n",
       "      <td>2021</td>\n",
       "    </tr>\n",
       "    <tr>\n",
       "      <th>2</th>\n",
       "      <td>Audi Q8</td>\n",
       "      <td>130</td>\n",
       "      <td>130</td>\n",
       "      <td>146</td>\n",
       "      <td>211</td>\n",
       "      <td>203</td>\n",
       "      <td>211</td>\n",
       "      <td>0</td>\n",
       "      <td>0</td>\n",
       "      <td>0</td>\n",
       "      <td>0</td>\n",
       "      <td>0</td>\n",
       "      <td>0</td>\n",
       "      <td>1031</td>\n",
       "      <td>MLS</td>\n",
       "      <td>2021</td>\n",
       "    </tr>\n",
       "    <tr>\n",
       "      <th>3</th>\n",
       "      <td>BMW X5</td>\n",
       "      <td>323</td>\n",
       "      <td>323</td>\n",
       "      <td>364</td>\n",
       "      <td>518</td>\n",
       "      <td>498</td>\n",
       "      <td>518</td>\n",
       "      <td>0</td>\n",
       "      <td>0</td>\n",
       "      <td>0</td>\n",
       "      <td>0</td>\n",
       "      <td>0</td>\n",
       "      <td>0</td>\n",
       "      <td>2544</td>\n",
       "      <td>MLS</td>\n",
       "      <td>2021</td>\n",
       "    </tr>\n",
       "    <tr>\n",
       "      <th>4</th>\n",
       "      <td>BMW X6</td>\n",
       "      <td>72</td>\n",
       "      <td>72</td>\n",
       "      <td>81</td>\n",
       "      <td>113</td>\n",
       "      <td>108</td>\n",
       "      <td>113</td>\n",
       "      <td>0</td>\n",
       "      <td>0</td>\n",
       "      <td>0</td>\n",
       "      <td>0</td>\n",
       "      <td>0</td>\n",
       "      <td>0</td>\n",
       "      <td>559</td>\n",
       "      <td>MLS</td>\n",
       "      <td>2021</td>\n",
       "    </tr>\n",
       "    <tr>\n",
       "      <th>...</th>\n",
       "      <td>...</td>\n",
       "      <td>...</td>\n",
       "      <td>...</td>\n",
       "      <td>...</td>\n",
       "      <td>...</td>\n",
       "      <td>...</td>\n",
       "      <td>...</td>\n",
       "      <td>...</td>\n",
       "      <td>...</td>\n",
       "      <td>...</td>\n",
       "      <td>...</td>\n",
       "      <td>...</td>\n",
       "      <td>...</td>\n",
       "      <td>...</td>\n",
       "      <td>...</td>\n",
       "      <td>...</td>\n",
       "    </tr>\n",
       "    <tr>\n",
       "      <th>231</th>\n",
       "      <td>Subaru Outback</td>\n",
       "      <td>499</td>\n",
       "      <td>621</td>\n",
       "      <td>948</td>\n",
       "      <td>1065</td>\n",
       "      <td>1079</td>\n",
       "      <td>981</td>\n",
       "      <td>1074</td>\n",
       "      <td>845</td>\n",
       "      <td>644</td>\n",
       "      <td>926</td>\n",
       "      <td>1184</td>\n",
       "      <td>1106</td>\n",
       "      <td>10972</td>\n",
       "      <td>MS</td>\n",
       "      <td>2019</td>\n",
       "    </tr>\n",
       "    <tr>\n",
       "      <th>232</th>\n",
       "      <td>Toyota 4Runner</td>\n",
       "      <td>605</td>\n",
       "      <td>393</td>\n",
       "      <td>784</td>\n",
       "      <td>762</td>\n",
       "      <td>854</td>\n",
       "      <td>681</td>\n",
       "      <td>824</td>\n",
       "      <td>903</td>\n",
       "      <td>522</td>\n",
       "      <td>690</td>\n",
       "      <td>663</td>\n",
       "      <td>549</td>\n",
       "      <td>8230</td>\n",
       "      <td>MS</td>\n",
       "      <td>2019</td>\n",
       "    </tr>\n",
       "    <tr>\n",
       "      <th>233</th>\n",
       "      <td>Toyota Highlander</td>\n",
       "      <td>729</td>\n",
       "      <td>792</td>\n",
       "      <td>1184</td>\n",
       "      <td>1095</td>\n",
       "      <td>1185</td>\n",
       "      <td>1423</td>\n",
       "      <td>1347</td>\n",
       "      <td>1336</td>\n",
       "      <td>1114</td>\n",
       "      <td>1366</td>\n",
       "      <td>1316</td>\n",
       "      <td>924</td>\n",
       "      <td>13811</td>\n",
       "      <td>MS</td>\n",
       "      <td>2019</td>\n",
       "    </tr>\n",
       "    <tr>\n",
       "      <th>234</th>\n",
       "      <td>Volkswagen Atlas</td>\n",
       "      <td>530</td>\n",
       "      <td>521</td>\n",
       "      <td>822</td>\n",
       "      <td>925</td>\n",
       "      <td>881</td>\n",
       "      <td>725</td>\n",
       "      <td>761</td>\n",
       "      <td>769</td>\n",
       "      <td>748</td>\n",
       "      <td>933</td>\n",
       "      <td>695</td>\n",
       "      <td>601</td>\n",
       "      <td>8911</td>\n",
       "      <td>MS</td>\n",
       "      <td>2019</td>\n",
       "    </tr>\n",
       "    <tr>\n",
       "      <th>235</th>\n",
       "      <td>Volkswagen Touareg</td>\n",
       "      <td>7</td>\n",
       "      <td>2</td>\n",
       "      <td>5</td>\n",
       "      <td>2</td>\n",
       "      <td>1</td>\n",
       "      <td>3</td>\n",
       "      <td>2</td>\n",
       "      <td>0</td>\n",
       "      <td>1</td>\n",
       "      <td>3</td>\n",
       "      <td>0</td>\n",
       "      <td>0</td>\n",
       "      <td>26</td>\n",
       "      <td>MS</td>\n",
       "      <td>2019</td>\n",
       "    </tr>\n",
       "  </tbody>\n",
       "</table>\n",
       "<p>236 rows × 16 columns</p>\n",
       "</div>"
      ],
      "text/plain": [
       "                  Model  Jan  Feb   Mar   Apr   May   Jun   Jul   Aug   Sep  \\\n",
       "0             Acura MDX   93  389   782   611   550   501     0     0     0   \n",
       "1               Audi Q7  210  210   236   303   292   303     0     0     0   \n",
       "2               Audi Q8  130  130   146   211   203   211     0     0     0   \n",
       "3                BMW X5  323  323   364   518   498   518     0     0     0   \n",
       "4                BMW X6   72   72    81   113   108   113     0     0     0   \n",
       "..                  ...  ...  ...   ...   ...   ...   ...   ...   ...   ...   \n",
       "231      Subaru Outback  499  621   948  1065  1079   981  1074   845   644   \n",
       "232      Toyota 4Runner  605  393   784   762   854   681   824   903   522   \n",
       "233   Toyota Highlander  729  792  1184  1095  1185  1423  1347  1336  1114   \n",
       "234    Volkswagen Atlas  530  521   822   925   881   725   761   769   748   \n",
       "235  Volkswagen Touareg    7    2     5     2     1     3     2     0     1   \n",
       "\n",
       "      Oct   Nov   Dec  Sumofsales Category  Year  \n",
       "0       0     0     0        2926      MLS  2021  \n",
       "1       0     0     0        1554      MLS  2021  \n",
       "2       0     0     0        1031      MLS  2021  \n",
       "3       0     0     0        2544      MLS  2021  \n",
       "4       0     0     0         559      MLS  2021  \n",
       "..    ...   ...   ...         ...      ...   ...  \n",
       "231   926  1184  1106       10972       MS  2019  \n",
       "232   690   663   549        8230       MS  2019  \n",
       "233  1366  1316   924       13811       MS  2019  \n",
       "234   933   695   601        8911       MS  2019  \n",
       "235     3     0     0          26       MS  2019  \n",
       "\n",
       "[236 rows x 16 columns]"
      ]
     },
     "execution_count": 5,
     "metadata": {},
     "output_type": "execute_result"
    }
   ],
   "source": [
    "data = pd.read_csv(\"/Users/vitoriawillanidealmeida/Desktop/DATA SCIENCE/Projetos próprios/Car_sales_canada/Canadasalesdata.csv\")\n",
    "data"
   ]
  },
  {
   "attachments": {},
   "cell_type": "markdown",
   "metadata": {},
   "source": [
    "Columns:\n",
    "model: which is the car model name\n",
    "Jan :January\n",
    "Feb:February\n",
    "Mar:March\n",
    "Apr:April\n",
    "May:May\n",
    "Jun:June\n",
    "Jul:July\n",
    "Aug:August\n",
    "Sep:September\n",
    "Oct:October\n",
    "Nov:November\n",
    "Dec:December\n",
    "Sumofsales : is the sum of sale of each car model\n",
    "Category : Contain 5 categories of cars\n",
    "MLS :MIDSIZE LUXURY SUV SALES FIGURES\n",
    "SLS:SMALL LUXURY SUV SALES FIGURES\n",
    "LLS: LARGE LUXURY SUV SALES FIGURES\n",
    "LS:LARGE SUV SALES FIGURES\n",
    "MS:MIDSIZE SUV SALES FIGURES\n",
    "Year : the year of sales"
   ]
  },
  {
   "attachments": {},
   "cell_type": "markdown",
   "metadata": {},
   "source": [
    "## Starting the data exploration process"
   ]
  },
  {
   "cell_type": "code",
   "execution_count": 6,
   "metadata": {},
   "outputs": [
    {
     "data": {
      "text/plain": [
       "array(['Acura MDX', 'Audi Q7', 'Audi Q8', 'BMW X5', 'BMW X6',\n",
       "       'Cadillac XT5', 'Cadillac XT6', 'Genesis GV80', 'Infiniti QX60',\n",
       "       'Jaguar F0Pace', 'Land Rover Defender',\n",
       "       'Land Rover Discovery / LR4', 'Land Rover Range Rover Sport',\n",
       "       'Land Rover Range Rover Velar', 'Lexus GX', 'Lexus RX',\n",
       "       'Lincoln Aviator', 'Lincoln MKX/Nautilus', 'Maserati Levante',\n",
       "       'Mercedes0Benz GLE0Class', 'Porsche Cayenne', 'Tesla Model X',\n",
       "       'Volvo XC90', 'Alfa Romeo Stelvio', 'Audi eTron', 'Audi Q3',\n",
       "       'Audi Q5', 'BMW X1', 'BMW X2', 'Cadillac XT4', 'Infiniti QX30',\n",
       "       'Infiniti QX50', 'Jaguar E0Pace', 'Land Rover Discovery Sport',\n",
       "       'Land Rover Range Rover Evoque', 'Lexus NX', 'Lexus UX',\n",
       "       'Lincoln MKC', 'Mercedes0Benz GLA0Class',\n",
       "       'Mercedes0Benz GLC/GLK0Class', 'Volvo XC40', 'Volvo XC60',\n",
       "       'Infiniti QX55', 'Mercedes0Benz GLB', 'Tesla Model Y', 'BMW X7',\n",
       "       'Cadillac Escalade', 'Infiniti QX80', 'Land Rover Range Rover',\n",
       "       'Lexus LX', 'Lincoln Navigator', 'Mercedes0Benz G0Class',\n",
       "       'Mercedes0Benz GL/GLS0Class', 'Toyota Land Cruiser',\n",
       "       'Chevrolet Suburban', 'Chevrolet Tahoe', 'Ford Expedition',\n",
       "       'GMC Yukon', 'Jeep Grand Wagoneer', 'Nissan Armada',\n",
       "       'Toyota Sequoia', 'GMC Yukon XL', 'Kia Sorento', 'Kia Telluride',\n",
       "       'Mazda CX09', 'Nissan Murano', 'Nissan Pathfinder',\n",
       "       'Subaru Ascent', 'Subaru Outback', 'Toyota 4Runner',\n",
       "       'Toyota Highlander', 'Volkswagen Atlas', 'Buick Enclave',\n",
       "       'Chevrolet Blazer', 'Chevrolet TrailBlazer', 'Chevrolet Traverse',\n",
       "       'Dodge Durango', 'Ford Bronco Sport', 'Ford Edge', 'Ford Explorer',\n",
       "       'Ford Flex', 'GMC Acadia', 'Honda Passport', 'Honda Pilot',\n",
       "       'Hyundai Palisade', 'Hyundai Santa Fe', 'Jeep Grand Cherokee',\n",
       "       'Jeep Wrangler', 'Volkswagen Touareg'], dtype=object)"
      ]
     },
     "execution_count": 6,
     "metadata": {},
     "output_type": "execute_result"
    }
   ],
   "source": [
    "data[\"Model\"].unique()"
   ]
  },
  {
   "attachments": {},
   "cell_type": "markdown",
   "metadata": {},
   "source": [
    "### Aggregating sales over the years"
   ]
  },
  {
   "cell_type": "code",
   "execution_count": 7,
   "metadata": {},
   "outputs": [
    {
     "data": {
      "text/html": [
       "<div>\n",
       "<style scoped>\n",
       "    .dataframe tbody tr th:only-of-type {\n",
       "        vertical-align: middle;\n",
       "    }\n",
       "\n",
       "    .dataframe tbody tr th {\n",
       "        vertical-align: top;\n",
       "    }\n",
       "\n",
       "    .dataframe thead th {\n",
       "        text-align: right;\n",
       "    }\n",
       "</style>\n",
       "<table border=\"1\" class=\"dataframe\">\n",
       "  <thead>\n",
       "    <tr style=\"text-align: right;\">\n",
       "      <th></th>\n",
       "      <th>Sumofsales</th>\n",
       "    </tr>\n",
       "    <tr>\n",
       "      <th>Year</th>\n",
       "      <th></th>\n",
       "    </tr>\n",
       "  </thead>\n",
       "  <tbody>\n",
       "    <tr>\n",
       "      <th>2019</th>\n",
       "      <td>390825</td>\n",
       "    </tr>\n",
       "    <tr>\n",
       "      <th>2020</th>\n",
       "      <td>341736</td>\n",
       "    </tr>\n",
       "    <tr>\n",
       "      <th>2021</th>\n",
       "      <td>136104</td>\n",
       "    </tr>\n",
       "  </tbody>\n",
       "</table>\n",
       "</div>"
      ],
      "text/plain": [
       "      Sumofsales\n",
       "Year            \n",
       "2019      390825\n",
       "2020      341736\n",
       "2021      136104"
      ]
     },
     "execution_count": 7,
     "metadata": {},
     "output_type": "execute_result"
    }
   ],
   "source": [
    "sales_for_Year = data.groupby(\"Year\")[[\"Sumofsales\"]].sum()\n",
    "sales_for_Year"
   ]
  },
  {
   "attachments": {},
   "cell_type": "markdown",
   "metadata": {},
   "source": [
    "### Ranking the number of sales for each model, we can see the top three models in terms of popularity: Jeep Grand Cherokee, Toyota Highlander, and Jeep Wrangler"
   ]
  },
  {
   "cell_type": "code",
   "execution_count": 8,
   "metadata": {},
   "outputs": [
    {
     "data": {
      "text/html": [
       "<div>\n",
       "<style scoped>\n",
       "    .dataframe tbody tr th:only-of-type {\n",
       "        vertical-align: middle;\n",
       "    }\n",
       "\n",
       "    .dataframe tbody tr th {\n",
       "        vertical-align: top;\n",
       "    }\n",
       "\n",
       "    .dataframe thead th {\n",
       "        text-align: right;\n",
       "    }\n",
       "</style>\n",
       "<table border=\"1\" class=\"dataframe\">\n",
       "  <thead>\n",
       "    <tr style=\"text-align: right;\">\n",
       "      <th></th>\n",
       "      <th>Model</th>\n",
       "      <th>Sumofsales</th>\n",
       "    </tr>\n",
       "  </thead>\n",
       "  <tbody>\n",
       "    <tr>\n",
       "      <th>0</th>\n",
       "      <td>Jeep Wrangler</td>\n",
       "      <td>45892</td>\n",
       "    </tr>\n",
       "    <tr>\n",
       "      <th>1</th>\n",
       "      <td>Toyota Highlander</td>\n",
       "      <td>42741</td>\n",
       "    </tr>\n",
       "    <tr>\n",
       "      <th>2</th>\n",
       "      <td>Jeep Grand Cherokee</td>\n",
       "      <td>35626</td>\n",
       "    </tr>\n",
       "    <tr>\n",
       "      <th>3</th>\n",
       "      <td>Audi Q5</td>\n",
       "      <td>35460</td>\n",
       "    </tr>\n",
       "    <tr>\n",
       "      <th>4</th>\n",
       "      <td>Hyundai Santa Fe</td>\n",
       "      <td>34650</td>\n",
       "    </tr>\n",
       "    <tr>\n",
       "      <th>...</th>\n",
       "      <td>...</td>\n",
       "      <td>...</td>\n",
       "    </tr>\n",
       "    <tr>\n",
       "      <th>84</th>\n",
       "      <td>Ford Bronco Sport</td>\n",
       "      <td>195</td>\n",
       "    </tr>\n",
       "    <tr>\n",
       "      <th>85</th>\n",
       "      <td>Infiniti QX55</td>\n",
       "      <td>190</td>\n",
       "    </tr>\n",
       "    <tr>\n",
       "      <th>86</th>\n",
       "      <td>Infiniti QX30</td>\n",
       "      <td>189</td>\n",
       "    </tr>\n",
       "    <tr>\n",
       "      <th>87</th>\n",
       "      <td>Volkswagen Touareg</td>\n",
       "      <td>28</td>\n",
       "    </tr>\n",
       "    <tr>\n",
       "      <th>88</th>\n",
       "      <td>Jeep Grand Wagoneer</td>\n",
       "      <td>4</td>\n",
       "    </tr>\n",
       "  </tbody>\n",
       "</table>\n",
       "<p>89 rows × 2 columns</p>\n",
       "</div>"
      ],
      "text/plain": [
       "                  Model  Sumofsales\n",
       "0         Jeep Wrangler       45892\n",
       "1     Toyota Highlander       42741\n",
       "2   Jeep Grand Cherokee       35626\n",
       "3               Audi Q5       35460\n",
       "4      Hyundai Santa Fe       34650\n",
       "..                  ...         ...\n",
       "84    Ford Bronco Sport         195\n",
       "85        Infiniti QX55         190\n",
       "86        Infiniti QX30         189\n",
       "87   Volkswagen Touareg          28\n",
       "88  Jeep Grand Wagoneer           4\n",
       "\n",
       "[89 rows x 2 columns]"
      ]
     },
     "execution_count": 8,
     "metadata": {},
     "output_type": "execute_result"
    }
   ],
   "source": [
    "sales_for_model = data.groupby(\"Model\")[[\"Sumofsales\"]].sum().sort_values(by = \"Sumofsales\", ascending = False).reset_index()\n",
    "sales_for_model"
   ]
  },
  {
   "cell_type": "code",
   "execution_count": 13,
   "metadata": {},
   "outputs": [
    {
     "data": {
      "text/plain": [
       "<Axes: xlabel='Model'>"
      ]
     },
     "execution_count": 13,
     "metadata": {},
     "output_type": "execute_result"
    },
    {
     "data": {
      "image/png": "[encoded data removed]",
      "text/plain": [
       "<Figure size 2000x600 with 1 Axes>"
      ]
     },
     "metadata": {},
     "output_type": "display_data"
    }
   ],
   "source": [
    "sales_for_model.plot(kind= \"bar\", x=\"Model\", y=\"Sumofsales\", figsize=(20,6))"
   ]
  },
  {
   "attachments": {},
   "cell_type": "markdown",
   "metadata": {},
   "source": [
    "### Jeep is the only manufacturer that appears more than once in the top ten models.  I'll focus my efforts on analyzing by brands."
   ]
  },
  {
   "cell_type": "code",
   "execution_count": 14,
   "metadata": {},
   "outputs": [
    {
     "data": {
      "text/html": [
       "<div>\n",
       "<style scoped>\n",
       "    .dataframe tbody tr th:only-of-type {\n",
       "        vertical-align: middle;\n",
       "    }\n",
       "\n",
       "    .dataframe tbody tr th {\n",
       "        vertical-align: top;\n",
       "    }\n",
       "\n",
       "    .dataframe thead th {\n",
       "        text-align: right;\n",
       "    }\n",
       "</style>\n",
       "<table border=\"1\" class=\"dataframe\">\n",
       "  <thead>\n",
       "    <tr style=\"text-align: right;\">\n",
       "      <th></th>\n",
       "      <th>Model</th>\n",
       "      <th>Sumofsales</th>\n",
       "    </tr>\n",
       "  </thead>\n",
       "  <tbody>\n",
       "    <tr>\n",
       "      <th>0</th>\n",
       "      <td>Jeep Wrangler</td>\n",
       "      <td>45892</td>\n",
       "    </tr>\n",
       "    <tr>\n",
       "      <th>2</th>\n",
       "      <td>Jeep Grand Cherokee</td>\n",
       "      <td>35626</td>\n",
       "    </tr>\n",
       "    <tr>\n",
       "      <th>88</th>\n",
       "      <td>Jeep Grand Wagoneer</td>\n",
       "      <td>4</td>\n",
       "    </tr>\n",
       "  </tbody>\n",
       "</table>\n",
       "</div>"
      ],
      "text/plain": [
       "                  Model  Sumofsales\n",
       "0         Jeep Wrangler       45892\n",
       "2   Jeep Grand Cherokee       35626\n",
       "88  Jeep Grand Wagoneer           4"
      ]
     },
     "execution_count": 14,
     "metadata": {},
     "output_type": "execute_result"
    }
   ],
   "source": [
    "sales_for_model[sales_for_model[\"Model\"].str.contains('Jeep')]"
   ]
  },
  {
   "cell_type": "code",
   "execution_count": 15,
   "metadata": {},
   "outputs": [
    {
     "data": {
      "text/plain": [
       "81522"
      ]
     },
     "execution_count": 15,
     "metadata": {},
     "output_type": "execute_result"
    }
   ],
   "source": [
    "Jeep_sales = 45892+35626+4\n",
    "Jeep_sales"
   ]
  },
  {
   "attachments": {},
   "cell_type": "markdown",
   "metadata": {},
   "source": [
    "### Doing this analysis by hand for each car manufacturer would be extremely time consuming, therefore I attempted to automate the search for car manufacturers; however, I have no method of recognizing the manufacturers, only the names of the models. As a result, I will do a manual study of the carmakers that appear in the top 20 in terms of sales."
   ]
  },
  {
   "cell_type": "code",
   "execution_count": 53,
   "metadata": {},
   "outputs": [
    {
     "data": {
      "text/plain": [
       "Rover            11\n",
       "Land              8\n",
       "Mercedes0Benz     6\n",
       "Lexus             5\n",
       "Ford              5\n",
       "                 ..\n",
       "GLA0Class         1\n",
       "XC60              1\n",
       "Pathfinder        1\n",
       "Traverse          1\n",
       "Wagoneer          1\n",
       "Name: count, Length: 125, dtype: int64"
      ]
     },
     "execution_count": 53,
     "metadata": {},
     "output_type": "execute_result"
    }
   ],
   "source": [
    "words = sales_for_model[\"Model\"].str.split(expand=True).stack().value_counts()\n",
    "words\n"
   ]
  },
  {
   "cell_type": "code",
   "execution_count": 17,
   "metadata": {},
   "outputs": [
    {
     "data": {
      "text/html": [
       "<div>\n",
       "<style scoped>\n",
       "    .dataframe tbody tr th:only-of-type {\n",
       "        vertical-align: middle;\n",
       "    }\n",
       "\n",
       "    .dataframe tbody tr th {\n",
       "        vertical-align: top;\n",
       "    }\n",
       "\n",
       "    .dataframe thead th {\n",
       "        text-align: right;\n",
       "    }\n",
       "</style>\n",
       "<table border=\"1\" class=\"dataframe\">\n",
       "  <thead>\n",
       "    <tr style=\"text-align: right;\">\n",
       "      <th></th>\n",
       "      <th>Model</th>\n",
       "      <th>Sumofsales</th>\n",
       "    </tr>\n",
       "  </thead>\n",
       "  <tbody>\n",
       "    <tr>\n",
       "      <th>0</th>\n",
       "      <td>Jeep Wrangler</td>\n",
       "      <td>45892</td>\n",
       "    </tr>\n",
       "    <tr>\n",
       "      <th>1</th>\n",
       "      <td>Toyota Highlander</td>\n",
       "      <td>42741</td>\n",
       "    </tr>\n",
       "    <tr>\n",
       "      <th>2</th>\n",
       "      <td>Jeep Grand Cherokee</td>\n",
       "      <td>35626</td>\n",
       "    </tr>\n",
       "    <tr>\n",
       "      <th>3</th>\n",
       "      <td>Audi Q5</td>\n",
       "      <td>35460</td>\n",
       "    </tr>\n",
       "    <tr>\n",
       "      <th>4</th>\n",
       "      <td>Hyundai Santa Fe</td>\n",
       "      <td>34650</td>\n",
       "    </tr>\n",
       "    <tr>\n",
       "      <th>5</th>\n",
       "      <td>Kia Sorento</td>\n",
       "      <td>33846</td>\n",
       "    </tr>\n",
       "    <tr>\n",
       "      <th>6</th>\n",
       "      <td>Ford Edge</td>\n",
       "      <td>33178</td>\n",
       "    </tr>\n",
       "    <tr>\n",
       "      <th>7</th>\n",
       "      <td>Mercedes0Benz GLC/GLK0Class</td>\n",
       "      <td>32555</td>\n",
       "    </tr>\n",
       "    <tr>\n",
       "      <th>8</th>\n",
       "      <td>Subaru Outback</td>\n",
       "      <td>29520</td>\n",
       "    </tr>\n",
       "    <tr>\n",
       "      <th>9</th>\n",
       "      <td>Lexus NX</td>\n",
       "      <td>26647</td>\n",
       "    </tr>\n",
       "    <tr>\n",
       "      <th>10</th>\n",
       "      <td>Ford Explorer</td>\n",
       "      <td>24950</td>\n",
       "    </tr>\n",
       "    <tr>\n",
       "      <th>11</th>\n",
       "      <td>Volkswagen Atlas</td>\n",
       "      <td>24928</td>\n",
       "    </tr>\n",
       "    <tr>\n",
       "      <th>12</th>\n",
       "      <td>Nissan Murano</td>\n",
       "      <td>23782</td>\n",
       "    </tr>\n",
       "    <tr>\n",
       "      <th>13</th>\n",
       "      <td>Toyota 4Runner</td>\n",
       "      <td>20947</td>\n",
       "    </tr>\n",
       "    <tr>\n",
       "      <th>14</th>\n",
       "      <td>Chevrolet Blazer</td>\n",
       "      <td>19071</td>\n",
       "    </tr>\n",
       "    <tr>\n",
       "      <th>15</th>\n",
       "      <td>Audi Q3</td>\n",
       "      <td>17641</td>\n",
       "    </tr>\n",
       "    <tr>\n",
       "      <th>16</th>\n",
       "      <td>Honda Pilot</td>\n",
       "      <td>17581</td>\n",
       "    </tr>\n",
       "    <tr>\n",
       "      <th>17</th>\n",
       "      <td>Dodge Durango</td>\n",
       "      <td>15287</td>\n",
       "    </tr>\n",
       "    <tr>\n",
       "      <th>18</th>\n",
       "      <td>Lexus RX</td>\n",
       "      <td>14580</td>\n",
       "    </tr>\n",
       "    <tr>\n",
       "      <th>19</th>\n",
       "      <td>BMW X1</td>\n",
       "      <td>12840</td>\n",
       "    </tr>\n",
       "  </tbody>\n",
       "</table>\n",
       "</div>"
      ],
      "text/plain": [
       "                          Model  Sumofsales\n",
       "0                 Jeep Wrangler       45892\n",
       "1             Toyota Highlander       42741\n",
       "2           Jeep Grand Cherokee       35626\n",
       "3                       Audi Q5       35460\n",
       "4              Hyundai Santa Fe       34650\n",
       "5                   Kia Sorento       33846\n",
       "6                     Ford Edge       33178\n",
       "7   Mercedes0Benz GLC/GLK0Class       32555\n",
       "8                Subaru Outback       29520\n",
       "9                      Lexus NX       26647\n",
       "10                Ford Explorer       24950\n",
       "11             Volkswagen Atlas       24928\n",
       "12                Nissan Murano       23782\n",
       "13               Toyota 4Runner       20947\n",
       "14             Chevrolet Blazer       19071\n",
       "15                      Audi Q3       17641\n",
       "16                  Honda Pilot       17581\n",
       "17                Dodge Durango       15287\n",
       "18                     Lexus RX       14580\n",
       "19                       BMW X1       12840"
      ]
     },
     "execution_count": 17,
     "metadata": {},
     "output_type": "execute_result"
    }
   ],
   "source": [
    "sales_for_model.head(20)"
   ]
  },
  {
   "cell_type": "code",
   "execution_count": 18,
   "metadata": {},
   "outputs": [
    {
     "data": {
      "text/plain": [
       "63688"
      ]
     },
     "execution_count": 18,
     "metadata": {},
     "output_type": "execute_result"
    }
   ],
   "source": [
    "Toyota_sales = 42741+20947\n",
    "Toyota_sales"
   ]
  },
  {
   "cell_type": "code",
   "execution_count": 19,
   "metadata": {},
   "outputs": [
    {
     "data": {
      "text/plain": [
       "53101"
      ]
     },
     "execution_count": 19,
     "metadata": {},
     "output_type": "execute_result"
    }
   ],
   "source": [
    "Audi_sales = 35460+17641\n",
    "Audi_sales"
   ]
  },
  {
   "cell_type": "code",
   "execution_count": 20,
   "metadata": {},
   "outputs": [],
   "source": [
    "Hyundai_sales = 34650"
   ]
  },
  {
   "cell_type": "code",
   "execution_count": 21,
   "metadata": {},
   "outputs": [],
   "source": [
    "Kia_sales = 33846"
   ]
  },
  {
   "cell_type": "code",
   "execution_count": 22,
   "metadata": {},
   "outputs": [
    {
     "data": {
      "text/plain": [
       "58128"
      ]
     },
     "execution_count": 22,
     "metadata": {},
     "output_type": "execute_result"
    }
   ],
   "source": [
    "Ford_sales= 33178 + 24950\n",
    "Ford_sales"
   ]
  },
  {
   "cell_type": "code",
   "execution_count": 23,
   "metadata": {},
   "outputs": [],
   "source": [
    "Volkswagen_sales = 24928"
   ]
  },
  {
   "cell_type": "code",
   "execution_count": 24,
   "metadata": {},
   "outputs": [],
   "source": [
    "Nissan_sales = 23782"
   ]
  },
  {
   "cell_type": "code",
   "execution_count": 25,
   "metadata": {},
   "outputs": [],
   "source": [
    "Mercedes0Benz_sales = 32555"
   ]
  },
  {
   "cell_type": "code",
   "execution_count": 26,
   "metadata": {},
   "outputs": [],
   "source": [
    "Subaru_sales = 29520"
   ]
  },
  {
   "cell_type": "code",
   "execution_count": 27,
   "metadata": {},
   "outputs": [
    {
     "data": {
      "text/plain": [
       "41227"
      ]
     },
     "execution_count": 27,
     "metadata": {},
     "output_type": "execute_result"
    }
   ],
   "source": [
    "Lexus_sales = 26647+14580\n",
    "Lexus_sales"
   ]
  },
  {
   "cell_type": "code",
   "execution_count": 28,
   "metadata": {},
   "outputs": [],
   "source": [
    "Chevrolet_sales = 19071"
   ]
  },
  {
   "cell_type": "code",
   "execution_count": 29,
   "metadata": {},
   "outputs": [],
   "source": [
    "Honda_sales = 17581"
   ]
  },
  {
   "cell_type": "code",
   "execution_count": 30,
   "metadata": {},
   "outputs": [],
   "source": [
    "Dodge_sales = 15287"
   ]
  },
  {
   "cell_type": "code",
   "execution_count": 31,
   "metadata": {},
   "outputs": [],
   "source": [
    "BMW_sales = 12840"
   ]
  },
  {
   "cell_type": "code",
   "execution_count": 54,
   "metadata": {},
   "outputs": [],
   "source": [
    "brands = [Toyota_sales, BMW_sales, Ford_sales, Hyundai_sales, Kia_sales, Audi_sales, Honda_sales, Chevrolet_sales, Dodge_sales,Lexus_sales,\n",
    "              Subaru_sales,Mercedes0Benz_sales, Nissan_sales, Volkswagen_sales]"
   ]
  },
  {
   "cell_type": "code",
   "execution_count": 57,
   "metadata": {},
   "outputs": [
    {
     "name": "stdout",
     "output_type": "stream",
     "text": [
      "percentage of sales for 63688: 11.76%\n",
      "percentage of sales for 12840: 2.37%\n",
      "percentage of sales for 58128: 10.73%\n",
      "percentage of sales for 34650: 6.40%\n",
      "percentage of sales for 33846: 6.25%\n",
      "percentage of sales for 53101: 9.80%\n",
      "percentage of sales for 17581: 3.25%\n",
      "percentage of sales for 19071: 3.52%\n",
      "percentage of sales for 15287: 2.82%\n",
      "percentage of sales for 41227: 7.61%\n",
      "percentage of sales for 29520: 5.45%\n",
      "percentage of sales for 32555: 6.01%\n",
      "percentage of sales for 23782: 4.39%\n",
      "percentage of sales for 24928: 4.60%\n"
     ]
    }
   ],
   "source": [
    "\n",
    "percentage_brand = {}\n",
    "for brand in brands:\n",
    "    percentage = brand / sales_for_model[\"Sumofsales\"].head(20).sum()\n",
    "    percentage_brand[brand] = percentage\n",
    "for brand, percentage in percentage_brand.items():\n",
    "    print(f\"percentage of sales for {brand}: {percentage:.2%}\")\n"
   ]
  },
  {
   "cell_type": "code",
   "execution_count": 67,
   "metadata": {},
   "outputs": [],
   "source": [
    "percentage_brand = {\"Toyota\": 11.76, \"Ford\": 10.73, \"Audi\": 9.80}\n"
   ]
  },
  {
   "cell_type": "code",
   "execution_count": 68,
   "metadata": {},
   "outputs": [
    {
     "data": {
      "text/html": [
       "<div>\n",
       "<style scoped>\n",
       "    .dataframe tbody tr th:only-of-type {\n",
       "        vertical-align: middle;\n",
       "    }\n",
       "\n",
       "    .dataframe tbody tr th {\n",
       "        vertical-align: top;\n",
       "    }\n",
       "\n",
       "    .dataframe thead th {\n",
       "        text-align: right;\n",
       "    }\n",
       "</style>\n",
       "<table border=\"1\" class=\"dataframe\">\n",
       "  <thead>\n",
       "    <tr style=\"text-align: right;\">\n",
       "      <th></th>\n",
       "      <th>Brand</th>\n",
       "      <th>Market percentage</th>\n",
       "    </tr>\n",
       "  </thead>\n",
       "  <tbody>\n",
       "    <tr>\n",
       "      <th>0</th>\n",
       "      <td>Toyota</td>\n",
       "      <td>11.76</td>\n",
       "    </tr>\n",
       "    <tr>\n",
       "      <th>1</th>\n",
       "      <td>Ford</td>\n",
       "      <td>10.73</td>\n",
       "    </tr>\n",
       "    <tr>\n",
       "      <th>2</th>\n",
       "      <td>Audi</td>\n",
       "      <td>9.80</td>\n",
       "    </tr>\n",
       "  </tbody>\n",
       "</table>\n",
       "</div>"
      ],
      "text/plain": [
       "    Brand  Market percentage\n",
       "0  Toyota              11.76\n",
       "1    Ford              10.73\n",
       "2    Audi               9.80"
      ]
     },
     "execution_count": 68,
     "metadata": {},
     "output_type": "execute_result"
    }
   ],
   "source": [
    "\n",
    "top3_brands = pd.DataFrame(percentage_brand.items(), columns=[\"Brand\", \"Market percentage\"])\n",
    "top3_brands\n"
   ]
  },
  {
   "cell_type": "code",
   "execution_count": 69,
   "metadata": {},
   "outputs": [],
   "source": [
    "top3_brands[\"Sales\"] = [63688,58128,53101]"
   ]
  },
  {
   "cell_type": "code",
   "execution_count": 70,
   "metadata": {},
   "outputs": [
    {
     "data": {
      "text/html": [
       "<div>\n",
       "<style scoped>\n",
       "    .dataframe tbody tr th:only-of-type {\n",
       "        vertical-align: middle;\n",
       "    }\n",
       "\n",
       "    .dataframe tbody tr th {\n",
       "        vertical-align: top;\n",
       "    }\n",
       "\n",
       "    .dataframe thead th {\n",
       "        text-align: right;\n",
       "    }\n",
       "</style>\n",
       "<table border=\"1\" class=\"dataframe\">\n",
       "  <thead>\n",
       "    <tr style=\"text-align: right;\">\n",
       "      <th></th>\n",
       "      <th>Brand</th>\n",
       "      <th>Market percentage</th>\n",
       "      <th>Sales</th>\n",
       "    </tr>\n",
       "  </thead>\n",
       "  <tbody>\n",
       "    <tr>\n",
       "      <th>0</th>\n",
       "      <td>Toyota</td>\n",
       "      <td>11.76</td>\n",
       "      <td>63688</td>\n",
       "    </tr>\n",
       "    <tr>\n",
       "      <th>1</th>\n",
       "      <td>Ford</td>\n",
       "      <td>10.73</td>\n",
       "      <td>58128</td>\n",
       "    </tr>\n",
       "    <tr>\n",
       "      <th>2</th>\n",
       "      <td>Audi</td>\n",
       "      <td>9.80</td>\n",
       "      <td>53101</td>\n",
       "    </tr>\n",
       "  </tbody>\n",
       "</table>\n",
       "</div>"
      ],
      "text/plain": [
       "    Brand  Market percentage  Sales\n",
       "0  Toyota              11.76  63688\n",
       "1    Ford              10.73  58128\n",
       "2    Audi               9.80  53101"
      ]
     },
     "execution_count": 70,
     "metadata": {},
     "output_type": "execute_result"
    }
   ],
   "source": [
    "top3_brands"
   ]
  },
  {
   "attachments": {},
   "cell_type": "markdown",
   "metadata": {},
   "source": [
    "### The size of the bubbles in the graphic is determined by the percentage of the market that particular automaker represents when the 20 best-selling models are entered."
   ]
  },
  {
   "cell_type": "code",
   "execution_count": 71,
   "metadata": {},
   "outputs": [
    {
     "data": {
      "application/vnd.plotly.v1+json": {
       "config": {
        "plotlyServerURL": "https://plot.ly"
       },
       "data": [
        {
         "hovertemplate": "Brand=%{x}<br>Sales=%{y}<br>Market percentage=%{marker.size}<extra></extra>",
         "legendgroup": "",
         "marker": {
          "color": "#636efa",
          "size": [
           11.76,
           10.73,
           9.8
          ],
          "sizemode": "area",
          "sizeref": 0.0294,
          "symbol": "circle"
         },
         "mode": "markers",
         "name": "",
         "orientation": "v",
         "showlegend": false,
         "type": "scatter",
         "x": [
          "Toyota",
          "Ford",
          "Audi"
         ],
         "xaxis": "x",
         "y": [
          63688,
          58128,
          53101
         ],
         "yaxis": "y"
        }
       ],
       "layout": {
        "legend": {
         "itemsizing": "constant",
         "tracegroupgap": 0
        },
        "margin": {
         "t": 60
        },
        "template": {
         "data": {
          "bar": [
           {
            "error_x": {
             "color": "#2a3f5f"
            },
            "error_y": {
             "color": "#2a3f5f"
            },
            "marker": {
             "line": {
              "color": "#E5ECF6",
              "width": 0.5
             },
             "pattern": {
              "fillmode": "overlay",
              "size": 10,
              "solidity": 0.2
             }
            },
            "type": "bar"
           }
          ],
          "barpolar": [
           {
            "marker": {
             "line": {
              "color": "#E5ECF6",
              "width": 0.5
             },
             "pattern": {
              "fillmode": "overlay",
              "size": 10,
              "solidity": 0.2
             }
            },
            "type": "barpolar"
           }
          ],
          "carpet": [
           {
            "aaxis": {
             "endlinecolor": "#2a3f5f",
             "gridcolor": "white",
             "linecolor": "white",
             "minorgridcolor": "white",
             "startlinecolor": "#2a3f5f"
            },
            "baxis": {
             "endlinecolor": "#2a3f5f",
             "gridcolor": "white",
             "linecolor": "white",
             "minorgridcolor": "white",
             "startlinecolor": "#2a3f5f"
            },
            "type": "carpet"
           }
          ],
          "choropleth": [
           {
            "colorbar": {
             "outlinewidth": 0,
             "ticks": ""
            },
            "type": "choropleth"
           }
          ],
          "contour": [
           {
            "colorbar": {
             "outlinewidth": 0,
             "ticks": ""
            },
            "colorscale": [
             [
              0,
              "#0d0887"
             ],
             [
              0.1111111111111111,
              "#46039f"
             ],
             [
              0.2222222222222222,
              "#7201a8"
             ],
             [
              0.3333333333333333,
              "#9c179e"
             ],
             [
              0.4444444444444444,
              "#bd3786"
             ],
             [
              0.5555555555555556,
              "#d8576b"
             ],
             [
              0.6666666666666666,
              "#ed7953"
             ],
             [
              0.7777777777777778,
              "#fb9f3a"
             ],
             [
              0.8888888888888888,
              "#fdca26"
             ],
             [
              1,
              "#f0f921"
             ]
            ],
            "type": "contour"
           }
          ],
          "contourcarpet": [
           {
            "colorbar": {
             "outlinewidth": 0,
             "ticks": ""
            },
            "type": "contourcarpet"
           }
          ],
          "heatmap": [
           {
            "colorbar": {
             "outlinewidth": 0,
             "ticks": ""
            },
            "colorscale": [
             [
              0,
              "#0d0887"
             ],
             [
              0.1111111111111111,
              "#46039f"
             ],
             [
              0.2222222222222222,
              "#7201a8"
             ],
             [
              0.3333333333333333,
              "#9c179e"
             ],
             [
              0.4444444444444444,
              "#bd3786"
             ],
             [
              0.5555555555555556,
              "#d8576b"
             ],
             [
              0.6666666666666666,
              "#ed7953"
             ],
             [
              0.7777777777777778,
              "#fb9f3a"
             ],
             [
              0.8888888888888888,
              "#fdca26"
             ],
             [
              1,
              "#f0f921"
             ]
            ],
            "type": "heatmap"
           }
          ],
          "heatmapgl": [
           {
            "colorbar": {
             "outlinewidth": 0,
             "ticks": ""
            },
            "colorscale": [
             [
              0,
              "#0d0887"
             ],
             [
              0.1111111111111111,
              "#46039f"
             ],
             [
              0.2222222222222222,
              "#7201a8"
             ],
             [
              0.3333333333333333,
              "#9c179e"
             ],
             [
              0.4444444444444444,
              "#bd3786"
             ],
             [
              0.5555555555555556,
              "#d8576b"
             ],
             [
              0.6666666666666666,
              "#ed7953"
             ],
             [
              0.7777777777777778,
              "#fb9f3a"
             ],
             [
              0.8888888888888888,
              "#fdca26"
             ],
             [
              1,
              "#f0f921"
             ]
            ],
            "type": "heatmapgl"
           }
          ],
          "histogram": [
           {
            "marker": {
             "pattern": {
              "fillmode": "overlay",
              "size": 10,
              "solidity": 0.2
             }
            },
            "type": "histogram"
           }
          ],
          "histogram2d": [
           {
            "colorbar": {
             "outlinewidth": 0,
             "ticks": ""
            },
            "colorscale": [
             [
              0,
              "#0d0887"
             ],
             [
              0.1111111111111111,
              "#46039f"
             ],
             [
              0.2222222222222222,
              "#7201a8"
             ],
             [
              0.3333333333333333,
              "#9c179e"
             ],
             [
              0.4444444444444444,
              "#bd3786"
             ],
             [
              0.5555555555555556,
              "#d8576b"
             ],
             [
              0.6666666666666666,
              "#ed7953"
             ],
             [
              0.7777777777777778,
              "#fb9f3a"
             ],
             [
              0.8888888888888888,
              "#fdca26"
             ],
             [
              1,
              "#f0f921"
             ]
            ],
            "type": "histogram2d"
           }
          ],
          "histogram2dcontour": [
           {
            "colorbar": {
             "outlinewidth": 0,
             "ticks": ""
            },
            "colorscale": [
             [
              0,
              "#0d0887"
             ],
             [
              0.1111111111111111,
              "#46039f"
             ],
             [
              0.2222222222222222,
              "#7201a8"
             ],
             [
              0.3333333333333333,
              "#9c179e"
             ],
             [
              0.4444444444444444,
              "#bd3786"
             ],
             [
              0.5555555555555556,
              "#d8576b"
             ],
             [
              0.6666666666666666,
              "#ed7953"
             ],
             [
              0.7777777777777778,
              "#fb9f3a"
             ],
             [
              0.8888888888888888,
              "#fdca26"
             ],
             [
              1,
              "#f0f921"
             ]
            ],
            "type": "histogram2dcontour"
           }
          ],
          "mesh3d": [
           {
            "colorbar": {
             "outlinewidth": 0,
             "ticks": ""
            },
            "type": "mesh3d"
           }
          ],
          "parcoords": [
           {
            "line": {
             "colorbar": {
              "outlinewidth": 0,
              "ticks": ""
             }
            },
            "type": "parcoords"
           }
          ],
          "pie": [
           {
            "automargin": true,
            "type": "pie"
           }
          ],
          "scatter": [
           {
            "fillpattern": {
             "fillmode": "overlay",
             "size": 10,
             "solidity": 0.2
            },
            "type": "scatter"
           }
          ],
          "scatter3d": [
           {
            "line": {
             "colorbar": {
              "outlinewidth": 0,
              "ticks": ""
             }
            },
            "marker": {
             "colorbar": {
              "outlinewidth": 0,
              "ticks": ""
             }
            },
            "type": "scatter3d"
           }
          ],
          "scattercarpet": [
           {
            "marker": {
             "colorbar": {
              "outlinewidth": 0,
              "ticks": ""
             }
            },
            "type": "scattercarpet"
           }
          ],
          "scattergeo": [
           {
            "marker": {
             "colorbar": {
              "outlinewidth": 0,
              "ticks": ""
             }
            },
            "type": "scattergeo"
           }
          ],
          "scattergl": [
           {
            "marker": {
             "colorbar": {
              "outlinewidth": 0,
              "ticks": ""
             }
            },
            "type": "scattergl"
           }
          ],
          "scattermapbox": [
           {
            "marker": {
             "colorbar": {
              "outlinewidth": 0,
              "ticks": ""
             }
            },
            "type": "scattermapbox"
           }
          ],
          "scatterpolar": [
           {
            "marker": {
             "colorbar": {
              "outlinewidth": 0,
              "ticks": ""
             }
            },
            "type": "scatterpolar"
           }
          ],
          "scatterpolargl": [
           {
            "marker": {
             "colorbar": {
              "outlinewidth": 0,
              "ticks": ""
             }
            },
            "type": "scatterpolargl"
           }
          ],
          "scatterternary": [
           {
            "marker": {
             "colorbar": {
              "outlinewidth": 0,
              "ticks": ""
             }
            },
            "type": "scatterternary"
           }
          ],
          "surface": [
           {
            "colorbar": {
             "outlinewidth": 0,
             "ticks": ""
            },
            "colorscale": [
             [
              0,
              "#0d0887"
             ],
             [
              0.1111111111111111,
              "#46039f"
             ],
             [
              0.2222222222222222,
              "#7201a8"
             ],
             [
              0.3333333333333333,
              "#9c179e"
             ],
             [
              0.4444444444444444,
              "#bd3786"
             ],
             [
              0.5555555555555556,
              "#d8576b"
             ],
             [
              0.6666666666666666,
              "#ed7953"
             ],
             [
              0.7777777777777778,
              "#fb9f3a"
             ],
             [
              0.8888888888888888,
              "#fdca26"
             ],
             [
              1,
              "#f0f921"
             ]
            ],
            "type": "surface"
           }
          ],
          "table": [
           {
            "cells": {
             "fill": {
              "color": "#EBF0F8"
             },
             "line": {
              "color": "white"
             }
            },
            "header": {
             "fill": {
              "color": "#C8D4E3"
             },
             "line": {
              "color": "white"
             }
            },
            "type": "table"
           }
          ]
         },
         "layout": {
          "annotationdefaults": {
           "arrowcolor": "#2a3f5f",
           "arrowhead": 0,
           "arrowwidth": 1
          },
          "autotypenumbers": "strict",
          "coloraxis": {
           "colorbar": {
            "outlinewidth": 0,
            "ticks": ""
           }
          },
          "colorscale": {
           "diverging": [
            [
             0,
             "#8e0152"
            ],
            [
             0.1,
             "#c51b7d"
            ],
            [
             0.2,
             "#de77ae"
            ],
            [
             0.3,
             "#f1b6da"
            ],
            [
             0.4,
             "#fde0ef"
            ],
            [
             0.5,
             "#f7f7f7"
            ],
            [
             0.6,
             "#e6f5d0"
            ],
            [
             0.7,
             "#b8e186"
            ],
            [
             0.8,
             "#7fbc41"
            ],
            [
             0.9,
             "#4d9221"
            ],
            [
             1,
             "#276419"
            ]
           ],
           "sequential": [
            [
             0,
             "#0d0887"
            ],
            [
             0.1111111111111111,
             "#46039f"
            ],
            [
             0.2222222222222222,
             "#7201a8"
            ],
            [
             0.3333333333333333,
             "#9c179e"
            ],
            [
             0.4444444444444444,
             "#bd3786"
            ],
            [
             0.5555555555555556,
             "#d8576b"
            ],
            [
             0.6666666666666666,
             "#ed7953"
            ],
            [
             0.7777777777777778,
             "#fb9f3a"
            ],
            [
             0.8888888888888888,
             "#fdca26"
            ],
            [
             1,
             "#f0f921"
            ]
           ],
           "sequentialminus": [
            [
             0,
             "#0d0887"
            ],
            [
             0.1111111111111111,
             "#46039f"
            ],
            [
             0.2222222222222222,
             "#7201a8"
            ],
            [
             0.3333333333333333,
             "#9c179e"
            ],
            [
             0.4444444444444444,
             "#bd3786"
            ],
            [
             0.5555555555555556,
             "#d8576b"
            ],
            [
             0.6666666666666666,
             "#ed7953"
            ],
            [
             0.7777777777777778,
             "#fb9f3a"
            ],
            [
             0.8888888888888888,
             "#fdca26"
            ],
            [
             1,
             "#f0f921"
            ]
           ]
          },
          "colorway": [
           "#636efa",
           "#EF553B",
           "#00cc96",
           "#ab63fa",
           "#FFA15A",
           "#19d3f3",
           "#FF6692",
           "#B6E880",
           "#FF97FF",
           "#FECB52"
          ],
          "font": {
           "color": "#2a3f5f"
          },
          "geo": {
           "bgcolor": "white",
           "lakecolor": "white",
           "landcolor": "#E5ECF6",
           "showlakes": true,
           "showland": true,
           "subunitcolor": "white"
          },
          "hoverlabel": {
           "align": "left"
          },
          "hovermode": "closest",
          "mapbox": {
           "style": "light"
          },
          "paper_bgcolor": "white",
          "plot_bgcolor": "#E5ECF6",
          "polar": {
           "angularaxis": {
            "gridcolor": "white",
            "linecolor": "white",
            "ticks": ""
           },
           "bgcolor": "#E5ECF6",
           "radialaxis": {
            "gridcolor": "white",
            "linecolor": "white",
            "ticks": ""
           }
          },
          "scene": {
           "xaxis": {
            "backgroundcolor": "#E5ECF6",
            "gridcolor": "white",
            "gridwidth": 2,
            "linecolor": "white",
            "showbackground": true,
            "ticks": "",
            "zerolinecolor": "white"
           },
           "yaxis": {
            "backgroundcolor": "#E5ECF6",
            "gridcolor": "white",
            "gridwidth": 2,
            "linecolor": "white",
            "showbackground": true,
            "ticks": "",
            "zerolinecolor": "white"
           },
           "zaxis": {
            "backgroundcolor": "#E5ECF6",
            "gridcolor": "white",
            "gridwidth": 2,
            "linecolor": "white",
            "showbackground": true,
            "ticks": "",
            "zerolinecolor": "white"
           }
          },
          "shapedefaults": {
           "line": {
            "color": "#2a3f5f"
           }
          },
          "ternary": {
           "aaxis": {
            "gridcolor": "white",
            "linecolor": "white",
            "ticks": ""
           },
           "baxis": {
            "gridcolor": "white",
            "linecolor": "white",
            "ticks": ""
           },
           "bgcolor": "#E5ECF6",
           "caxis": {
            "gridcolor": "white",
            "linecolor": "white",
            "ticks": ""
           }
          },
          "title": {
           "x": 0.05
          },
          "xaxis": {
           "automargin": true,
           "gridcolor": "white",
           "linecolor": "white",
           "ticks": "",
           "title": {
            "standoff": 15
           },
           "zerolinecolor": "white",
           "zerolinewidth": 2
          },
          "yaxis": {
           "automargin": true,
           "gridcolor": "white",
           "linecolor": "white",
           "ticks": "",
           "title": {
            "standoff": 15
           },
           "zerolinecolor": "white",
           "zerolinewidth": 2
          }
         }
        },
        "xaxis": {
         "anchor": "y",
         "domain": [
          0,
          1
         ],
         "title": {
          "text": "Brand"
         }
        },
        "yaxis": {
         "anchor": "x",
         "domain": [
          0,
          1
         ],
         "title": {
          "text": "Sales"
         }
        }
       }
      }
     },
     "metadata": {},
     "output_type": "display_data"
    }
   ],
   "source": [
    "px.scatter(data_frame = top3_brands, x = 'Brand', y = 'Sales', size = 'Market percentage')"
   ]
  },
  {
   "attachments": {},
   "cell_type": "markdown",
   "metadata": {},
   "source": [
    "### Let us now turn our attention to the models rather than the car manufacturer."
   ]
  },
  {
   "cell_type": "code",
   "execution_count": 72,
   "metadata": {},
   "outputs": [
    {
     "data": {
      "text/html": [
       "<div>\n",
       "<style scoped>\n",
       "    .dataframe tbody tr th:only-of-type {\n",
       "        vertical-align: middle;\n",
       "    }\n",
       "\n",
       "    .dataframe tbody tr th {\n",
       "        vertical-align: top;\n",
       "    }\n",
       "\n",
       "    .dataframe thead th {\n",
       "        text-align: right;\n",
       "    }\n",
       "</style>\n",
       "<table border=\"1\" class=\"dataframe\">\n",
       "  <thead>\n",
       "    <tr style=\"text-align: right;\">\n",
       "      <th></th>\n",
       "      <th>Model</th>\n",
       "      <th>Jan</th>\n",
       "      <th>Feb</th>\n",
       "      <th>Mar</th>\n",
       "      <th>Apr</th>\n",
       "      <th>May</th>\n",
       "      <th>Jun</th>\n",
       "      <th>Jul</th>\n",
       "      <th>Aug</th>\n",
       "      <th>Sep</th>\n",
       "      <th>Oct</th>\n",
       "      <th>Nov</th>\n",
       "      <th>Dec</th>\n",
       "      <th>Sumofsales</th>\n",
       "      <th>Category</th>\n",
       "      <th>Year</th>\n",
       "    </tr>\n",
       "  </thead>\n",
       "  <tbody>\n",
       "    <tr>\n",
       "      <th>0</th>\n",
       "      <td>Acura MDX</td>\n",
       "      <td>93</td>\n",
       "      <td>389</td>\n",
       "      <td>782</td>\n",
       "      <td>611</td>\n",
       "      <td>550</td>\n",
       "      <td>501</td>\n",
       "      <td>0</td>\n",
       "      <td>0</td>\n",
       "      <td>0</td>\n",
       "      <td>0</td>\n",
       "      <td>0</td>\n",
       "      <td>0</td>\n",
       "      <td>2926</td>\n",
       "      <td>MLS</td>\n",
       "      <td>2021</td>\n",
       "    </tr>\n",
       "    <tr>\n",
       "      <th>1</th>\n",
       "      <td>Audi Q7</td>\n",
       "      <td>210</td>\n",
       "      <td>210</td>\n",
       "      <td>236</td>\n",
       "      <td>303</td>\n",
       "      <td>292</td>\n",
       "      <td>303</td>\n",
       "      <td>0</td>\n",
       "      <td>0</td>\n",
       "      <td>0</td>\n",
       "      <td>0</td>\n",
       "      <td>0</td>\n",
       "      <td>0</td>\n",
       "      <td>1554</td>\n",
       "      <td>MLS</td>\n",
       "      <td>2021</td>\n",
       "    </tr>\n",
       "    <tr>\n",
       "      <th>2</th>\n",
       "      <td>Audi Q8</td>\n",
       "      <td>130</td>\n",
       "      <td>130</td>\n",
       "      <td>146</td>\n",
       "      <td>211</td>\n",
       "      <td>203</td>\n",
       "      <td>211</td>\n",
       "      <td>0</td>\n",
       "      <td>0</td>\n",
       "      <td>0</td>\n",
       "      <td>0</td>\n",
       "      <td>0</td>\n",
       "      <td>0</td>\n",
       "      <td>1031</td>\n",
       "      <td>MLS</td>\n",
       "      <td>2021</td>\n",
       "    </tr>\n",
       "    <tr>\n",
       "      <th>3</th>\n",
       "      <td>BMW X5</td>\n",
       "      <td>323</td>\n",
       "      <td>323</td>\n",
       "      <td>364</td>\n",
       "      <td>518</td>\n",
       "      <td>498</td>\n",
       "      <td>518</td>\n",
       "      <td>0</td>\n",
       "      <td>0</td>\n",
       "      <td>0</td>\n",
       "      <td>0</td>\n",
       "      <td>0</td>\n",
       "      <td>0</td>\n",
       "      <td>2544</td>\n",
       "      <td>MLS</td>\n",
       "      <td>2021</td>\n",
       "    </tr>\n",
       "    <tr>\n",
       "      <th>4</th>\n",
       "      <td>BMW X6</td>\n",
       "      <td>72</td>\n",
       "      <td>72</td>\n",
       "      <td>81</td>\n",
       "      <td>113</td>\n",
       "      <td>108</td>\n",
       "      <td>113</td>\n",
       "      <td>0</td>\n",
       "      <td>0</td>\n",
       "      <td>0</td>\n",
       "      <td>0</td>\n",
       "      <td>0</td>\n",
       "      <td>0</td>\n",
       "      <td>559</td>\n",
       "      <td>MLS</td>\n",
       "      <td>2021</td>\n",
       "    </tr>\n",
       "    <tr>\n",
       "      <th>5</th>\n",
       "      <td>Cadillac XT5</td>\n",
       "      <td>378</td>\n",
       "      <td>378</td>\n",
       "      <td>425</td>\n",
       "      <td>575</td>\n",
       "      <td>553</td>\n",
       "      <td>575</td>\n",
       "      <td>0</td>\n",
       "      <td>0</td>\n",
       "      <td>0</td>\n",
       "      <td>0</td>\n",
       "      <td>0</td>\n",
       "      <td>0</td>\n",
       "      <td>2884</td>\n",
       "      <td>MLS</td>\n",
       "      <td>2021</td>\n",
       "    </tr>\n",
       "    <tr>\n",
       "      <th>6</th>\n",
       "      <td>Cadillac XT6</td>\n",
       "      <td>146</td>\n",
       "      <td>146</td>\n",
       "      <td>164</td>\n",
       "      <td>175</td>\n",
       "      <td>168</td>\n",
       "      <td>175</td>\n",
       "      <td>0</td>\n",
       "      <td>0</td>\n",
       "      <td>0</td>\n",
       "      <td>0</td>\n",
       "      <td>0</td>\n",
       "      <td>0</td>\n",
       "      <td>974</td>\n",
       "      <td>MLS</td>\n",
       "      <td>2021</td>\n",
       "    </tr>\n",
       "    <tr>\n",
       "      <th>7</th>\n",
       "      <td>Genesis GV80</td>\n",
       "      <td>108</td>\n",
       "      <td>106</td>\n",
       "      <td>160</td>\n",
       "      <td>154</td>\n",
       "      <td>146</td>\n",
       "      <td>168</td>\n",
       "      <td>121</td>\n",
       "      <td>0</td>\n",
       "      <td>0</td>\n",
       "      <td>0</td>\n",
       "      <td>0</td>\n",
       "      <td>0</td>\n",
       "      <td>963</td>\n",
       "      <td>MLS</td>\n",
       "      <td>2021</td>\n",
       "    </tr>\n",
       "    <tr>\n",
       "      <th>8</th>\n",
       "      <td>Infiniti QX60</td>\n",
       "      <td>130</td>\n",
       "      <td>130</td>\n",
       "      <td>146</td>\n",
       "      <td>95</td>\n",
       "      <td>91</td>\n",
       "      <td>95</td>\n",
       "      <td>0</td>\n",
       "      <td>0</td>\n",
       "      <td>0</td>\n",
       "      <td>0</td>\n",
       "      <td>0</td>\n",
       "      <td>0</td>\n",
       "      <td>687</td>\n",
       "      <td>MLS</td>\n",
       "      <td>2021</td>\n",
       "    </tr>\n",
       "    <tr>\n",
       "      <th>9</th>\n",
       "      <td>Jaguar F0Pace</td>\n",
       "      <td>116</td>\n",
       "      <td>116</td>\n",
       "      <td>131</td>\n",
       "      <td>184</td>\n",
       "      <td>177</td>\n",
       "      <td>184</td>\n",
       "      <td>0</td>\n",
       "      <td>0</td>\n",
       "      <td>0</td>\n",
       "      <td>0</td>\n",
       "      <td>0</td>\n",
       "      <td>0</td>\n",
       "      <td>908</td>\n",
       "      <td>MLS</td>\n",
       "      <td>2021</td>\n",
       "    </tr>\n",
       "    <tr>\n",
       "      <th>10</th>\n",
       "      <td>Land Rover Defender</td>\n",
       "      <td>216</td>\n",
       "      <td>216</td>\n",
       "      <td>243</td>\n",
       "      <td>129</td>\n",
       "      <td>124</td>\n",
       "      <td>129</td>\n",
       "      <td>0</td>\n",
       "      <td>0</td>\n",
       "      <td>0</td>\n",
       "      <td>0</td>\n",
       "      <td>0</td>\n",
       "      <td>0</td>\n",
       "      <td>1057</td>\n",
       "      <td>MLS</td>\n",
       "      <td>2021</td>\n",
       "    </tr>\n",
       "    <tr>\n",
       "      <th>11</th>\n",
       "      <td>Land Rover Discovery / LR4</td>\n",
       "      <td>13</td>\n",
       "      <td>13</td>\n",
       "      <td>15</td>\n",
       "      <td>21</td>\n",
       "      <td>20</td>\n",
       "      <td>21</td>\n",
       "      <td>0</td>\n",
       "      <td>0</td>\n",
       "      <td>0</td>\n",
       "      <td>0</td>\n",
       "      <td>0</td>\n",
       "      <td>0</td>\n",
       "      <td>103</td>\n",
       "      <td>MLS</td>\n",
       "      <td>2021</td>\n",
       "    </tr>\n",
       "    <tr>\n",
       "      <th>12</th>\n",
       "      <td>Land Rover Range Rover Sport</td>\n",
       "      <td>263</td>\n",
       "      <td>263</td>\n",
       "      <td>296</td>\n",
       "      <td>282</td>\n",
       "      <td>271</td>\n",
       "      <td>282</td>\n",
       "      <td>0</td>\n",
       "      <td>0</td>\n",
       "      <td>0</td>\n",
       "      <td>0</td>\n",
       "      <td>0</td>\n",
       "      <td>0</td>\n",
       "      <td>1657</td>\n",
       "      <td>MLS</td>\n",
       "      <td>2021</td>\n",
       "    </tr>\n",
       "    <tr>\n",
       "      <th>13</th>\n",
       "      <td>Land Rover Range Rover Velar</td>\n",
       "      <td>105</td>\n",
       "      <td>105</td>\n",
       "      <td>118</td>\n",
       "      <td>149</td>\n",
       "      <td>143</td>\n",
       "      <td>149</td>\n",
       "      <td>0</td>\n",
       "      <td>0</td>\n",
       "      <td>0</td>\n",
       "      <td>0</td>\n",
       "      <td>0</td>\n",
       "      <td>0</td>\n",
       "      <td>769</td>\n",
       "      <td>MLS</td>\n",
       "      <td>2021</td>\n",
       "    </tr>\n",
       "    <tr>\n",
       "      <th>14</th>\n",
       "      <td>Lexus GX</td>\n",
       "      <td>37</td>\n",
       "      <td>36</td>\n",
       "      <td>19</td>\n",
       "      <td>30</td>\n",
       "      <td>18</td>\n",
       "      <td>21</td>\n",
       "      <td>14</td>\n",
       "      <td>0</td>\n",
       "      <td>0</td>\n",
       "      <td>0</td>\n",
       "      <td>0</td>\n",
       "      <td>0</td>\n",
       "      <td>175</td>\n",
       "      <td>MLS</td>\n",
       "      <td>2021</td>\n",
       "    </tr>\n",
       "    <tr>\n",
       "      <th>15</th>\n",
       "      <td>Lexus RX</td>\n",
       "      <td>451</td>\n",
       "      <td>493</td>\n",
       "      <td>836</td>\n",
       "      <td>904</td>\n",
       "      <td>801</td>\n",
       "      <td>944</td>\n",
       "      <td>923</td>\n",
       "      <td>0</td>\n",
       "      <td>0</td>\n",
       "      <td>0</td>\n",
       "      <td>0</td>\n",
       "      <td>0</td>\n",
       "      <td>5352</td>\n",
       "      <td>MLS</td>\n",
       "      <td>2021</td>\n",
       "    </tr>\n",
       "    <tr>\n",
       "      <th>16</th>\n",
       "      <td>Lincoln Aviator</td>\n",
       "      <td>115</td>\n",
       "      <td>115</td>\n",
       "      <td>130</td>\n",
       "      <td>191</td>\n",
       "      <td>184</td>\n",
       "      <td>191</td>\n",
       "      <td>0</td>\n",
       "      <td>0</td>\n",
       "      <td>0</td>\n",
       "      <td>0</td>\n",
       "      <td>0</td>\n",
       "      <td>0</td>\n",
       "      <td>926</td>\n",
       "      <td>MLS</td>\n",
       "      <td>2021</td>\n",
       "    </tr>\n",
       "    <tr>\n",
       "      <th>17</th>\n",
       "      <td>Lincoln MKX/Nautilus</td>\n",
       "      <td>95</td>\n",
       "      <td>95</td>\n",
       "      <td>107</td>\n",
       "      <td>190</td>\n",
       "      <td>183</td>\n",
       "      <td>190</td>\n",
       "      <td>0</td>\n",
       "      <td>0</td>\n",
       "      <td>0</td>\n",
       "      <td>0</td>\n",
       "      <td>0</td>\n",
       "      <td>0</td>\n",
       "      <td>860</td>\n",
       "      <td>MLS</td>\n",
       "      <td>2021</td>\n",
       "    </tr>\n",
       "    <tr>\n",
       "      <th>18</th>\n",
       "      <td>Maserati Levante</td>\n",
       "      <td>25</td>\n",
       "      <td>25</td>\n",
       "      <td>28</td>\n",
       "      <td>31</td>\n",
       "      <td>40</td>\n",
       "      <td>24</td>\n",
       "      <td>0</td>\n",
       "      <td>0</td>\n",
       "      <td>0</td>\n",
       "      <td>0</td>\n",
       "      <td>0</td>\n",
       "      <td>0</td>\n",
       "      <td>173</td>\n",
       "      <td>MLS</td>\n",
       "      <td>2021</td>\n",
       "    </tr>\n",
       "    <tr>\n",
       "      <th>19</th>\n",
       "      <td>Mercedes0Benz GLE0Class</td>\n",
       "      <td>543</td>\n",
       "      <td>543</td>\n",
       "      <td>611</td>\n",
       "      <td>680</td>\n",
       "      <td>654</td>\n",
       "      <td>680</td>\n",
       "      <td>0</td>\n",
       "      <td>0</td>\n",
       "      <td>0</td>\n",
       "      <td>0</td>\n",
       "      <td>0</td>\n",
       "      <td>0</td>\n",
       "      <td>3711</td>\n",
       "      <td>MLS</td>\n",
       "      <td>2021</td>\n",
       "    </tr>\n",
       "  </tbody>\n",
       "</table>\n",
       "</div>"
      ],
      "text/plain": [
       "                           Model  Jan  Feb  Mar  Apr  May  Jun  Jul  Aug  Sep  \\\n",
       "0                      Acura MDX   93  389  782  611  550  501    0    0    0   \n",
       "1                        Audi Q7  210  210  236  303  292  303    0    0    0   \n",
       "2                        Audi Q8  130  130  146  211  203  211    0    0    0   \n",
       "3                         BMW X5  323  323  364  518  498  518    0    0    0   \n",
       "4                         BMW X6   72   72   81  113  108  113    0    0    0   \n",
       "5                   Cadillac XT5  378  378  425  575  553  575    0    0    0   \n",
       "6                   Cadillac XT6  146  146  164  175  168  175    0    0    0   \n",
       "7                   Genesis GV80  108  106  160  154  146  168  121    0    0   \n",
       "8                  Infiniti QX60  130  130  146   95   91   95    0    0    0   \n",
       "9                  Jaguar F0Pace  116  116  131  184  177  184    0    0    0   \n",
       "10           Land Rover Defender  216  216  243  129  124  129    0    0    0   \n",
       "11    Land Rover Discovery / LR4   13   13   15   21   20   21    0    0    0   \n",
       "12  Land Rover Range Rover Sport  263  263  296  282  271  282    0    0    0   \n",
       "13  Land Rover Range Rover Velar  105  105  118  149  143  149    0    0    0   \n",
       "14                      Lexus GX   37   36   19   30   18   21   14    0    0   \n",
       "15                      Lexus RX  451  493  836  904  801  944  923    0    0   \n",
       "16               Lincoln Aviator  115  115  130  191  184  191    0    0    0   \n",
       "17          Lincoln MKX/Nautilus   95   95  107  190  183  190    0    0    0   \n",
       "18              Maserati Levante   25   25   28   31   40   24    0    0    0   \n",
       "19       Mercedes0Benz GLE0Class  543  543  611  680  654  680    0    0    0   \n",
       "\n",
       "    Oct  Nov  Dec  Sumofsales Category  Year  \n",
       "0     0    0    0        2926      MLS  2021  \n",
       "1     0    0    0        1554      MLS  2021  \n",
       "2     0    0    0        1031      MLS  2021  \n",
       "3     0    0    0        2544      MLS  2021  \n",
       "4     0    0    0         559      MLS  2021  \n",
       "5     0    0    0        2884      MLS  2021  \n",
       "6     0    0    0         974      MLS  2021  \n",
       "7     0    0    0         963      MLS  2021  \n",
       "8     0    0    0         687      MLS  2021  \n",
       "9     0    0    0         908      MLS  2021  \n",
       "10    0    0    0        1057      MLS  2021  \n",
       "11    0    0    0         103      MLS  2021  \n",
       "12    0    0    0        1657      MLS  2021  \n",
       "13    0    0    0         769      MLS  2021  \n",
       "14    0    0    0         175      MLS  2021  \n",
       "15    0    0    0        5352      MLS  2021  \n",
       "16    0    0    0         926      MLS  2021  \n",
       "17    0    0    0         860      MLS  2021  \n",
       "18    0    0    0         173      MLS  2021  \n",
       "19    0    0    0        3711      MLS  2021  "
      ]
     },
     "execution_count": 72,
     "metadata": {},
     "output_type": "execute_result"
    }
   ],
   "source": [
    "data.head(20)"
   ]
  },
  {
   "cell_type": "code",
   "execution_count": 73,
   "metadata": {},
   "outputs": [
    {
     "data": {
      "text/plain": [
       "array([2021, 2020, 2019])"
      ]
     },
     "execution_count": 73,
     "metadata": {},
     "output_type": "execute_result"
    }
   ],
   "source": [
    "data[\"Year\"].unique()"
   ]
  },
  {
   "attachments": {},
   "cell_type": "markdown",
   "metadata": {},
   "source": [
    "### Analyzing vehicle sales by category"
   ]
  },
  {
   "cell_type": "code",
   "execution_count": 74,
   "metadata": {},
   "outputs": [
    {
     "data": {
      "text/html": [
       "<div>\n",
       "<style scoped>\n",
       "    .dataframe tbody tr th:only-of-type {\n",
       "        vertical-align: middle;\n",
       "    }\n",
       "\n",
       "    .dataframe tbody tr th {\n",
       "        vertical-align: top;\n",
       "    }\n",
       "\n",
       "    .dataframe thead th {\n",
       "        text-align: right;\n",
       "    }\n",
       "</style>\n",
       "<table border=\"1\" class=\"dataframe\">\n",
       "  <thead>\n",
       "    <tr style=\"text-align: right;\">\n",
       "      <th></th>\n",
       "      <th>Sumofsales</th>\n",
       "    </tr>\n",
       "    <tr>\n",
       "      <th>Category</th>\n",
       "      <th></th>\n",
       "    </tr>\n",
       "  </thead>\n",
       "  <tbody>\n",
       "    <tr>\n",
       "      <th>MS</th>\n",
       "      <td>490987</td>\n",
       "    </tr>\n",
       "    <tr>\n",
       "      <th>SLS</th>\n",
       "      <td>156244</td>\n",
       "    </tr>\n",
       "    <tr>\n",
       "      <th>MLS</th>\n",
       "      <td>151396</td>\n",
       "    </tr>\n",
       "    <tr>\n",
       "      <th>LS</th>\n",
       "      <td>40089</td>\n",
       "    </tr>\n",
       "    <tr>\n",
       "      <th>LLS</th>\n",
       "      <td>29949</td>\n",
       "    </tr>\n",
       "  </tbody>\n",
       "</table>\n",
       "</div>"
      ],
      "text/plain": [
       "          Sumofsales\n",
       "Category            \n",
       "MS            490987\n",
       "SLS           156244\n",
       "MLS           151396\n",
       "LS             40089\n",
       "LLS            29949"
      ]
     },
     "execution_count": 74,
     "metadata": {},
     "output_type": "execute_result"
    }
   ],
   "source": [
    "category_sales = data.groupby(\"Category\")[[\"Sumofsales\"]].sum().sort_values(by= \"Sumofsales\", ascending= False)\n",
    "category_sales"
   ]
  },
  {
   "cell_type": "code",
   "execution_count": 75,
   "metadata": {},
   "outputs": [],
   "source": [
    "category_sales.reset_index(inplace=True)"
   ]
  },
  {
   "cell_type": "code",
   "execution_count": 76,
   "metadata": {},
   "outputs": [
    {
     "data": {
      "text/html": [
       "<div>\n",
       "<style scoped>\n",
       "    .dataframe tbody tr th:only-of-type {\n",
       "        vertical-align: middle;\n",
       "    }\n",
       "\n",
       "    .dataframe tbody tr th {\n",
       "        vertical-align: top;\n",
       "    }\n",
       "\n",
       "    .dataframe thead th {\n",
       "        text-align: right;\n",
       "    }\n",
       "</style>\n",
       "<table border=\"1\" class=\"dataframe\">\n",
       "  <thead>\n",
       "    <tr style=\"text-align: right;\">\n",
       "      <th></th>\n",
       "      <th>Category</th>\n",
       "      <th>Sumofsales</th>\n",
       "    </tr>\n",
       "  </thead>\n",
       "  <tbody>\n",
       "    <tr>\n",
       "      <th>0</th>\n",
       "      <td>MS</td>\n",
       "      <td>490987</td>\n",
       "    </tr>\n",
       "    <tr>\n",
       "      <th>1</th>\n",
       "      <td>SLS</td>\n",
       "      <td>156244</td>\n",
       "    </tr>\n",
       "    <tr>\n",
       "      <th>2</th>\n",
       "      <td>MLS</td>\n",
       "      <td>151396</td>\n",
       "    </tr>\n",
       "    <tr>\n",
       "      <th>3</th>\n",
       "      <td>LS</td>\n",
       "      <td>40089</td>\n",
       "    </tr>\n",
       "    <tr>\n",
       "      <th>4</th>\n",
       "      <td>LLS</td>\n",
       "      <td>29949</td>\n",
       "    </tr>\n",
       "  </tbody>\n",
       "</table>\n",
       "</div>"
      ],
      "text/plain": [
       "  Category  Sumofsales\n",
       "0       MS      490987\n",
       "1      SLS      156244\n",
       "2      MLS      151396\n",
       "3       LS       40089\n",
       "4      LLS       29949"
      ]
     },
     "execution_count": 76,
     "metadata": {},
     "output_type": "execute_result"
    }
   ],
   "source": [
    "category_sales"
   ]
  },
  {
   "cell_type": "code",
   "execution_count": 44,
   "metadata": {},
   "outputs": [
    {
     "data": {
      "application/vnd.plotly.v1+json": {
       "config": {
        "plotlyServerURL": "https://plot.ly"
       },
       "data": [
        {
         "branchvalues": "total",
         "customdata": [
          [
           3495.796261136264
          ],
          [
           458
          ],
          [
           432.25399361022363
          ],
          [
           3734
          ],
          [
           4830.33961314446
          ],
          [
           10855
          ],
          [
           8742.699979678928
          ],
          [
           1964.339821146765
          ],
          [
           1195.1104502973662
          ],
          [
           490
          ],
          [
           474.73773265651437
          ],
          [
           4420
          ],
          [
           3305.3814726840856
          ],
          [
           1383
          ],
          [
           1042.6589205397302
          ],
          [
           4007.1170691772413
          ],
          [
           862.8008821676118
          ],
          [
           1349.5580728419845
          ],
          [
           2496.682600382409
          ],
          [
           2058.163313212609
          ],
          [
           3517
          ],
          [
           3159.106349206349
          ],
          [
           3675.6154062808055
          ],
          [
           1286.7168356997972
          ],
          [
           12912.349693251534
          ],
          [
           1614.3664226898445
          ],
          [
           2933.5557384760114
          ],
          [
           2487
          ],
          [
           5557.992700729927
          ],
          [
           8154.594688297246
          ],
          [
           195
          ],
          [
           17276.044185906325
          ],
          [
           3985.4002106371777
          ],
          [
           13107.053226452907
          ],
          [
           2379.755351681957
          ],
          [
           3837.3064559335653
          ],
          [
           3557.4996199163816
          ],
          [
           1917.5549048316252
          ],
          [
           806.1834789515489
          ],
          [
           2857.5896400351185
          ],
          [
           8824.849610374837
          ],
          [
           7160.044948321449
          ],
          [
           17473.503088023088
          ],
          [
           93
          ],
          [
           90.1875
          ],
          [
           3515
          ],
          [
           2637.127849661121
          ],
          [
           190
          ],
          [
           1520.5785714285714
          ],
          [
           766.6737918215614
          ],
          [
           417
          ],
          [
           328.75853018372703
          ],
          [
           1238.4791843670348
          ],
          [
           17853.179419525066
          ],
          [
           4
          ],
          [
           22948.48936633836
          ],
          [
           12796.77947172487
          ],
          [
           3122.7176976869287
          ],
          [
           956.7815482502651
          ],
          [
           270.6908665105386
          ],
          [
           1076
          ],
          [
           879.2270779777207
          ],
          [
           1346.955737704918
          ],
          [
           1788
          ],
          [
           1459.3971631205675
          ],
          [
           2078.6049627791563
          ],
          [
           1131.0635673624288
          ],
          [
           435.7507163323782
          ],
          [
           900.5984147952444
          ],
          [
           7626
          ],
          [
           6636.689606224699
          ],
          [
           7805.204938271605
          ],
          [
           2683
          ],
          [
           2543.2061883529254
          ],
          [
           1613.1695151726544
          ],
          [
           2507
          ],
          [
           2060.753381345512
          ],
          [
           1459.092613853808
          ],
          [
           1308.8316633266534
          ],
          [
           203.645
          ],
          [
           4308.395780456853
          ],
          [
           1010.9571998549147
          ],
          [
           1905.8585311156794
          ],
          [
           3689
          ],
          [
           2725.847009942128
          ],
          [
           1639.0313846153847
          ],
          [
           10883
          ],
          [
           8383.518549280177
          ],
          [
           5232.128688773958
          ],
          [
           461.2029434546863
          ],
          [
           9380.529896560423
          ],
          [
           4379.625463535229
          ],
          [
           2609.624887285843
          ],
          [
           3512.0618619844836
          ],
          [
           10634.891056910568
          ],
          [
           1056.7226606538895
          ],
          [
           2661.921609676669
          ],
          [
           7298.0263044827425
          ],
          [
           14439.35095107742
          ],
          [
           282.42014742014743
          ],
          [
           453.29179810725554
          ],
          [
           8479.839136713736
          ],
          [
           24.285714285714285
          ],
          [
           2132
          ],
          [
           2087.076588897828
          ],
          [
           3045
          ],
          [
           2788.1122792829224
          ],
          [
           2023.164774227621
          ],
          [
           1448.8928177902435
          ],
          [
           3024.8374117588364
          ],
          [
           4692.594427858067
          ],
          [
           12335.251200133609
          ],
          [
           4954.854752822508
          ]
         ],
         "domain": {
          "x": [
           0,
           1
          ],
          "y": [
           0,
           1
          ]
         },
         "hovertemplate": "labels=%{label}<br>Sumofsales_sum=%{value}<br>parent=%{parent}<br>id=%{id}<br>Sumofsales=%{color}<extra></extra>",
         "ids": [
          "MLS/Acura MDX",
          "MLS/Alfa Romeo Stelvio",
          "SLS/Alfa Romeo Stelvio",
          "MLS/Audi Q3",
          "SLS/Audi Q3",
          "MLS/Audi Q5",
          "SLS/Audi Q5",
          "MLS/Audi Q7",
          "MLS/Audi Q8",
          "MLS/Audi eTron",
          "SLS/Audi eTron",
          "MLS/BMW X1",
          "SLS/BMW X1",
          "MLS/BMW X2",
          "SLS/BMW X2",
          "MLS/BMW X5",
          "MLS/BMW X6",
          "LLS/BMW X7",
          "MS/Buick Enclave",
          "LLS/Cadillac Escalade",
          "MLS/Cadillac XT4",
          "SLS/Cadillac XT4",
          "MLS/Cadillac XT5",
          "MLS/Cadillac XT6",
          "MS/Chevrolet Blazer",
          "LS/Chevrolet Suburban",
          "LS/Chevrolet Tahoe",
          "MS/Chevrolet TrailBlazer",
          "MS/Chevrolet Traverse",
          "MS/Dodge Durango",
          "MS/Ford Bronco Sport",
          "MS/Ford Edge",
          "LS/Ford Expedition",
          "MS/Ford Explorer",
          "MS/Ford Flex",
          "MS/GMC Acadia",
          "LS/GMC Yukon",
          "LS/GMC Yukon XL",
          "MLS/Genesis GV80",
          "MS/Honda Passport",
          "MS/Honda Pilot",
          "MS/Hyundai Palisade",
          "MS/Hyundai Santa Fe",
          "MLS/Infiniti QX30",
          "SLS/Infiniti QX30",
          "MLS/Infiniti QX50",
          "SLS/Infiniti QX50",
          "SLS/Infiniti QX55",
          "MLS/Infiniti QX60",
          "LLS/Infiniti QX80",
          "MLS/Jaguar E0Pace",
          "SLS/Jaguar E0Pace",
          "MLS/Jaguar F0Pace",
          "MS/Jeep Grand Cherokee",
          "LS/Jeep Grand Wagoneer",
          "MS/Jeep Wrangler",
          "MS/Kia Sorento",
          "MS/Kia Telluride",
          "MLS/Land Rover Defender",
          "MLS/Land Rover Discovery / LR4",
          "MLS/Land Rover Discovery Sport",
          "SLS/Land Rover Discovery Sport",
          "LLS/Land Rover Range Rover",
          "MLS/Land Rover Range Rover Evoque",
          "SLS/Land Rover Range Rover Evoque",
          "MLS/Land Rover Range Rover Sport",
          "MLS/Land Rover Range Rover Velar",
          "MLS/Lexus GX",
          "LLS/Lexus LX",
          "MLS/Lexus NX",
          "SLS/Lexus NX",
          "MLS/Lexus RX",
          "MLS/Lexus UX",
          "SLS/Lexus UX",
          "MLS/Lincoln Aviator",
          "MLS/Lincoln MKC",
          "SLS/Lincoln MKC",
          "MLS/Lincoln MKX/Nautilus",
          "LLS/Lincoln Navigator",
          "MLS/Maserati Levante",
          "MS/Mazda CX09",
          "LLS/Mercedes0Benz G0Class",
          "LLS/Mercedes0Benz GL/GLS0Class",
          "MLS/Mercedes0Benz GLA0Class",
          "SLS/Mercedes0Benz GLA0Class",
          "SLS/Mercedes0Benz GLB",
          "MLS/Mercedes0Benz GLC/GLK0Class",
          "SLS/Mercedes0Benz GLC/GLK0Class",
          "MLS/Mercedes0Benz GLE0Class",
          "LS/Nissan Armada",
          "MS/Nissan Murano",
          "MS/Nissan Pathfinder",
          "MLS/Porsche Cayenne",
          "MS/Subaru Ascent",
          "MS/Subaru Outback",
          "MLS/Tesla Model X",
          "SLS/Tesla Model Y",
          "MS/Toyota 4Runner",
          "MS/Toyota Highlander",
          "LLS/Toyota Land Cruiser",
          "LS/Toyota Sequoia",
          "MS/Volkswagen Atlas",
          "MS/Volkswagen Touareg",
          "MLS/Volvo XC40",
          "SLS/Volvo XC40",
          "MLS/Volvo XC60",
          "SLS/Volvo XC60",
          "MLS/Volvo XC90",
          "LLS",
          "LS",
          "MLS",
          "MS",
          "SLS"
         ],
         "labels": [
          "Acura MDX",
          "Alfa Romeo Stelvio",
          "Alfa Romeo Stelvio",
          "Audi Q3",
          "Audi Q3",
          "Audi Q5",
          "Audi Q5",
          "Audi Q7",
          "Audi Q8",
          "Audi eTron",
          "Audi eTron",
          "BMW X1",
          "BMW X1",
          "BMW X2",
          "BMW X2",
          "BMW X5",
          "BMW X6",
          "BMW X7",
          "Buick Enclave",
          "Cadillac Escalade",
          "Cadillac XT4",
          "Cadillac XT4",
          "Cadillac XT5",
          "Cadillac XT6",
          "Chevrolet Blazer",
          "Chevrolet Suburban",
          "Chevrolet Tahoe",
          "Chevrolet TrailBlazer",
          "Chevrolet Traverse",
          "Dodge Durango",
          "Ford Bronco Sport",
          "Ford Edge",
          "Ford Expedition",
          "Ford Explorer",
          "Ford Flex",
          "GMC Acadia",
          "GMC Yukon",
          "GMC Yukon XL",
          "Genesis GV80",
          "Honda Passport",
          "Honda Pilot",
          "Hyundai Palisade",
          "Hyundai Santa Fe",
          "Infiniti QX30",
          "Infiniti QX30",
          "Infiniti QX50",
          "Infiniti QX50",
          "Infiniti QX55",
          "Infiniti QX60",
          "Infiniti QX80",
          "Jaguar E0Pace",
          "Jaguar E0Pace",
          "Jaguar F0Pace",
          "Jeep Grand Cherokee",
          "Jeep Grand Wagoneer",
          "Jeep Wrangler",
          "Kia Sorento",
          "Kia Telluride",
          "Land Rover Defender",
          "Land Rover Discovery / LR4",
          "Land Rover Discovery Sport",
          "Land Rover Discovery Sport",
          "Land Rover Range Rover",
          "Land Rover Range Rover Evoque",
          "Land Rover Range Rover Evoque",
          "Land Rover Range Rover Sport",
          "Land Rover Range Rover Velar",
          "Lexus GX",
          "Lexus LX",
          "Lexus NX",
          "Lexus NX",
          "Lexus RX",
          "Lexus UX",
          "Lexus UX",
          "Lincoln Aviator",
          "Lincoln MKC",
          "Lincoln MKC",
          "Lincoln MKX/Nautilus",
          "Lincoln Navigator",
          "Maserati Levante",
          "Mazda CX09",
          "Mercedes0Benz G0Class",
          "Mercedes0Benz GL/GLS0Class",
          "Mercedes0Benz GLA0Class",
          "Mercedes0Benz GLA0Class",
          "Mercedes0Benz GLB",
          "Mercedes0Benz GLC/GLK0Class",
          "Mercedes0Benz GLC/GLK0Class",
          "Mercedes0Benz GLE0Class",
          "Nissan Armada",
          "Nissan Murano",
          "Nissan Pathfinder",
          "Porsche Cayenne",
          "Subaru Ascent",
          "Subaru Outback",
          "Tesla Model X",
          "Tesla Model Y",
          "Toyota 4Runner",
          "Toyota Highlander",
          "Toyota Land Cruiser",
          "Toyota Sequoia",
          "Volkswagen Atlas",
          "Volkswagen Touareg",
          "Volvo XC40",
          "Volvo XC40",
          "Volvo XC60",
          "Volvo XC60",
          "Volvo XC90",
          "LLS",
          "LS",
          "MLS",
          "MS",
          "SLS"
         ],
         "marker": {
          "coloraxis": "coloraxis",
          "colors": [
           3495.796261136264,
           458,
           432.25399361022363,
           3734,
           4830.33961314446,
           10855,
           8742.699979678928,
           1964.339821146765,
           1195.1104502973662,
           490,
           474.73773265651437,
           4420,
           3305.3814726840856,
           1383,
           1042.6589205397302,
           4007.1170691772413,
           862.8008821676118,
           1349.5580728419845,
           2496.682600382409,
           2058.163313212609,
           3517,
           3159.106349206349,
           3675.6154062808055,
           1286.7168356997972,
           12912.349693251534,
           1614.3664226898445,
           2933.5557384760114,
           2487,
           5557.992700729927,
           8154.594688297246,
           195,
           17276.044185906325,
           3985.4002106371777,
           13107.053226452907,
           2379.755351681957,
           3837.3064559335653,
           3557.4996199163816,
           1917.5549048316252,
           806.1834789515489,
           2857.5896400351185,
           8824.849610374837,
           7160.044948321449,
           17473.503088023088,
           93,
           90.1875,
           3515,
           2637.127849661121,
           190,
           1520.5785714285714,
           766.6737918215614,
           417,
           328.75853018372703,
           1238.4791843670348,
           17853.179419525066,
           4,
           22948.48936633836,
           12796.77947172487,
           3122.7176976869287,
           956.7815482502651,
           270.6908665105386,
           1076,
           879.2270779777207,
           1346.955737704918,
           1788,
           1459.3971631205675,
           2078.6049627791563,
           1131.0635673624288,
           435.7507163323782,
           900.5984147952444,
           7626,
           6636.689606224699,
           7805.204938271605,
           2683,
           2543.2061883529254,
           1613.1695151726544,
           2507,
           2060.753381345512,
           1459.092613853808,
           1308.8316633266534,
           203.645,
           4308.395780456853,
           1010.9571998549147,
           1905.8585311156794,
           3689,
           2725.847009942128,
           1639.0313846153847,
           10883,
           8383.518549280177,
           5232.128688773958,
           461.2029434546863,
           9380.529896560423,
           4379.625463535229,
           2609.624887285843,
           3512.0618619844836,
           10634.891056910568,
           1056.7226606538895,
           2661.921609676669,
           7298.0263044827425,
           14439.35095107742,
           282.42014742014743,
           453.29179810725554,
           8479.839136713736,
           24.285714285714285,
           2132,
           2087.076588897828,
           3045,
           2788.1122792829224,
           2023.164774227621,
           1448.8928177902435,
           3024.8374117588364,
           4692.594427858067,
           12335.251200133609,
           4954.854752822508
          ]
         },
         "name": "",
         "parents": [
          "MLS",
          "MLS",
          "SLS",
          "MLS",
          "SLS",
          "MLS",
          "SLS",
          "MLS",
          "MLS",
          "MLS",
          "SLS",
          "MLS",
          "SLS",
          "MLS",
          "SLS",
          "MLS",
          "MLS",
          "LLS",
          "MS",
          "LLS",
          "MLS",
          "SLS",
          "MLS",
          "MLS",
          "MS",
          "LS",
          "LS",
          "MS",
          "MS",
          "MS",
          "MS",
          "MS",
          "LS",
          "MS",
          "MS",
          "MS",
          "LS",
          "LS",
          "MLS",
          "MS",
          "MS",
          "MS",
          "MS",
          "MLS",
          "SLS",
          "MLS",
          "SLS",
          "SLS",
          "MLS",
          "LLS",
          "MLS",
          "SLS",
          "MLS",
          "MS",
          "LS",
          "MS",
          "MS",
          "MS",
          "MLS",
          "MLS",
          "MLS",
          "SLS",
          "LLS",
          "MLS",
          "SLS",
          "MLS",
          "MLS",
          "MLS",
          "LLS",
          "MLS",
          "SLS",
          "MLS",
          "MLS",
          "SLS",
          "MLS",
          "MLS",
          "SLS",
          "MLS",
          "LLS",
          "MLS",
          "MS",
          "LLS",
          "LLS",
          "MLS",
          "SLS",
          "SLS",
          "MLS",
          "SLS",
          "MLS",
          "LS",
          "MS",
          "MS",
          "MLS",
          "MS",
          "MS",
          "MLS",
          "SLS",
          "MS",
          "MS",
          "LLS",
          "LS",
          "MS",
          "MS",
          "MLS",
          "SLS",
          "MLS",
          "SLS",
          "MLS",
          "",
          "",
          "",
          "",
          ""
         ],
         "type": "sunburst",
         "values": [
          6847,
          458,
          1252,
          3734,
          13907,
          10855,
          24605,
          3802,
          2354,
          490,
          1182,
          4420,
          8420,
          1383,
          2668,
          7329,
          1587,
          3487,
          4707,
          5964,
          3517,
          8820,
          7101,
          2465,
          19071,
          4372,
          8504,
          2487,
          11097,
          15287,
          195,
          33178,
          11394,
          24950,
          2616,
          7466,
          10524,
          2732,
          1259,
          5695,
          17581,
          12481,
          34650,
          93,
          96,
          3515,
          6492,
          190,
          2520,
          2152,
          417,
          762,
          2354,
          35626,
          4,
          45892,
          33846,
          9295,
          1886,
          427,
          1076,
          2334,
          3660,
          1788,
          3807,
          4030,
          2108,
          698,
          2271,
          7626,
          19021,
          14580,
          2683,
          7401,
          2867,
          2507,
          5693,
          2613,
          3493,
          400,
          12608,
          2757,
          5351,
          3689,
          6739,
          3250,
          10883,
          21672,
          9861,
          1291,
          23782,
          10517,
          4436,
          9796,
          29520,
          1774,
          4299,
          20947,
          42741,
          814,
          1268,
          24928,
          28,
          2132,
          6215,
          3045,
          7419,
          3787,
          29949,
          40089,
          151396,
          490987,
          156244
         ]
        }
       ],
       "layout": {
        "coloraxis": {
         "colorbar": {
          "title": {
           "text": "Sumofsales"
          }
         },
         "colorscale": [
          [
           0,
           "#0d0887"
          ],
          [
           0.1111111111111111,
           "#46039f"
          ],
          [
           0.2222222222222222,
           "#7201a8"
          ],
          [
           0.3333333333333333,
           "#9c179e"
          ],
          [
           0.4444444444444444,
           "#bd3786"
          ],
          [
           0.5555555555555556,
           "#d8576b"
          ],
          [
           0.6666666666666666,
           "#ed7953"
          ],
          [
           0.7777777777777778,
           "#fb9f3a"
          ],
          [
           0.8888888888888888,
           "#fdca26"
          ],
          [
           1,
           "#f0f921"
          ]
         ]
        },
        "legend": {
         "tracegroupgap": 0
        },
        "margin": {
         "t": 60
        },
        "template": {
         "data": {
          "bar": [
           {
            "error_x": {
             "color": "#2a3f5f"
            },
            "error_y": {
             "color": "#2a3f5f"
            },
            "marker": {
             "line": {
              "color": "#E5ECF6",
              "width": 0.5
             },
             "pattern": {
              "fillmode": "overlay",
              "size": 10,
              "solidity": 0.2
             }
            },
            "type": "bar"
           }
          ],
          "barpolar": [
           {
            "marker": {
             "line": {
              "color": "#E5ECF6",
              "width": 0.5
             },
             "pattern": {
              "fillmode": "overlay",
              "size": 10,
              "solidity": 0.2
             }
            },
            "type": "barpolar"
           }
          ],
          "carpet": [
           {
            "aaxis": {
             "endlinecolor": "#2a3f5f",
             "gridcolor": "white",
             "linecolor": "white",
             "minorgridcolor": "white",
             "startlinecolor": "#2a3f5f"
            },
            "baxis": {
             "endlinecolor": "#2a3f5f",
             "gridcolor": "white",
             "linecolor": "white",
             "minorgridcolor": "white",
             "startlinecolor": "#2a3f5f"
            },
            "type": "carpet"
           }
          ],
          "choropleth": [
           {
            "colorbar": {
             "outlinewidth": 0,
             "ticks": ""
            },
            "type": "choropleth"
           }
          ],
          "contour": [
           {
            "colorbar": {
             "outlinewidth": 0,
             "ticks": ""
            },
            "colorscale": [
             [
              0,
              "#0d0887"
             ],
             [
              0.1111111111111111,
              "#46039f"
             ],
             [
              0.2222222222222222,
              "#7201a8"
             ],
             [
              0.3333333333333333,
              "#9c179e"
             ],
             [
              0.4444444444444444,
              "#bd3786"
             ],
             [
              0.5555555555555556,
              "#d8576b"
             ],
             [
              0.6666666666666666,
              "#ed7953"
             ],
             [
              0.7777777777777778,
              "#fb9f3a"
             ],
             [
              0.8888888888888888,
              "#fdca26"
             ],
             [
              1,
              "#f0f921"
             ]
            ],
            "type": "contour"
           }
          ],
          "contourcarpet": [
           {
            "colorbar": {
             "outlinewidth": 0,
             "ticks": ""
            },
            "type": "contourcarpet"
           }
          ],
          "heatmap": [
           {
            "colorbar": {
             "outlinewidth": 0,
             "ticks": ""
            },
            "colorscale": [
             [
              0,
              "#0d0887"
             ],
             [
              0.1111111111111111,
              "#46039f"
             ],
             [
              0.2222222222222222,
              "#7201a8"
             ],
             [
              0.3333333333333333,
              "#9c179e"
             ],
             [
              0.4444444444444444,
              "#bd3786"
             ],
             [
              0.5555555555555556,
              "#d8576b"
             ],
             [
              0.6666666666666666,
              "#ed7953"
             ],
             [
              0.7777777777777778,
              "#fb9f3a"
             ],
             [
              0.8888888888888888,
              "#fdca26"
             ],
             [
              1,
              "#f0f921"
             ]
            ],
            "type": "heatmap"
           }
          ],
          "heatmapgl": [
           {
            "colorbar": {
             "outlinewidth": 0,
             "ticks": ""
            },
            "colorscale": [
             [
              0,
              "#0d0887"
             ],
             [
              0.1111111111111111,
              "#46039f"
             ],
             [
              0.2222222222222222,
              "#7201a8"
             ],
             [
              0.3333333333333333,
              "#9c179e"
             ],
             [
              0.4444444444444444,
              "#bd3786"
             ],
             [
              0.5555555555555556,
              "#d8576b"
             ],
             [
              0.6666666666666666,
              "#ed7953"
             ],
             [
              0.7777777777777778,
              "#fb9f3a"
             ],
             [
              0.8888888888888888,
              "#fdca26"
             ],
             [
              1,
              "#f0f921"
             ]
            ],
            "type": "heatmapgl"
           }
          ],
          "histogram": [
           {
            "marker": {
             "pattern": {
              "fillmode": "overlay",
              "size": 10,
              "solidity": 0.2
             }
            },
            "type": "histogram"
           }
          ],
          "histogram2d": [
           {
            "colorbar": {
             "outlinewidth": 0,
             "ticks": ""
            },
            "colorscale": [
             [
              0,
              "#0d0887"
             ],
             [
              0.1111111111111111,
              "#46039f"
             ],
             [
              0.2222222222222222,
              "#7201a8"
             ],
             [
              0.3333333333333333,
              "#9c179e"
             ],
             [
              0.4444444444444444,
              "#bd3786"
             ],
             [
              0.5555555555555556,
              "#d8576b"
             ],
             [
              0.6666666666666666,
              "#ed7953"
             ],
             [
              0.7777777777777778,
              "#fb9f3a"
             ],
             [
              0.8888888888888888,
              "#fdca26"
             ],
             [
              1,
              "#f0f921"
             ]
            ],
            "type": "histogram2d"
           }
          ],
          "histogram2dcontour": [
           {
            "colorbar": {
             "outlinewidth": 0,
             "ticks": ""
            },
            "colorscale": [
             [
              0,
              "#0d0887"
             ],
             [
              0.1111111111111111,
              "#46039f"
             ],
             [
              0.2222222222222222,
              "#7201a8"
             ],
             [
              0.3333333333333333,
              "#9c179e"
             ],
             [
              0.4444444444444444,
              "#bd3786"
             ],
             [
              0.5555555555555556,
              "#d8576b"
             ],
             [
              0.6666666666666666,
              "#ed7953"
             ],
             [
              0.7777777777777778,
              "#fb9f3a"
             ],
             [
              0.8888888888888888,
              "#fdca26"
             ],
             [
              1,
              "#f0f921"
             ]
            ],
            "type": "histogram2dcontour"
           }
          ],
          "mesh3d": [
           {
            "colorbar": {
             "outlinewidth": 0,
             "ticks": ""
            },
            "type": "mesh3d"
           }
          ],
          "parcoords": [
           {
            "line": {
             "colorbar": {
              "outlinewidth": 0,
              "ticks": ""
             }
            },
            "type": "parcoords"
           }
          ],
          "pie": [
           {
            "automargin": true,
            "type": "pie"
           }
          ],
          "scatter": [
           {
            "fillpattern": {
             "fillmode": "overlay",
             "size": 10,
             "solidity": 0.2
            },
            "type": "scatter"
           }
          ],
          "scatter3d": [
           {
            "line": {
             "colorbar": {
              "outlinewidth": 0,
              "ticks": ""
             }
            },
            "marker": {
             "colorbar": {
              "outlinewidth": 0,
              "ticks": ""
             }
            },
            "type": "scatter3d"
           }
          ],
          "scattercarpet": [
           {
            "marker": {
             "colorbar": {
              "outlinewidth": 0,
              "ticks": ""
             }
            },
            "type": "scattercarpet"
           }
          ],
          "scattergeo": [
           {
            "marker": {
             "colorbar": {
              "outlinewidth": 0,
              "ticks": ""
             }
            },
            "type": "scattergeo"
           }
          ],
          "scattergl": [
           {
            "marker": {
             "colorbar": {
              "outlinewidth": 0,
              "ticks": ""
             }
            },
            "type": "scattergl"
           }
          ],
          "scattermapbox": [
           {
            "marker": {
             "colorbar": {
              "outlinewidth": 0,
              "ticks": ""
             }
            },
            "type": "scattermapbox"
           }
          ],
          "scatterpolar": [
           {
            "marker": {
             "colorbar": {
              "outlinewidth": 0,
              "ticks": ""
             }
            },
            "type": "scatterpolar"
           }
          ],
          "scatterpolargl": [
           {
            "marker": {
             "colorbar": {
              "outlinewidth": 0,
              "ticks": ""
             }
            },
            "type": "scatterpolargl"
           }
          ],
          "scatterternary": [
           {
            "marker": {
             "colorbar": {
              "outlinewidth": 0,
              "ticks": ""
             }
            },
            "type": "scatterternary"
           }
          ],
          "surface": [
           {
            "colorbar": {
             "outlinewidth": 0,
             "ticks": ""
            },
            "colorscale": [
             [
              0,
              "#0d0887"
             ],
             [
              0.1111111111111111,
              "#46039f"
             ],
             [
              0.2222222222222222,
              "#7201a8"
             ],
             [
              0.3333333333333333,
              "#9c179e"
             ],
             [
              0.4444444444444444,
              "#bd3786"
             ],
             [
              0.5555555555555556,
              "#d8576b"
             ],
             [
              0.6666666666666666,
              "#ed7953"
             ],
             [
              0.7777777777777778,
              "#fb9f3a"
             ],
             [
              0.8888888888888888,
              "#fdca26"
             ],
             [
              1,
              "#f0f921"
             ]
            ],
            "type": "surface"
           }
          ],
          "table": [
           {
            "cells": {
             "fill": {
              "color": "#EBF0F8"
             },
             "line": {
              "color": "white"
             }
            },
            "header": {
             "fill": {
              "color": "#C8D4E3"
             },
             "line": {
              "color": "white"
             }
            },
            "type": "table"
           }
          ]
         },
         "layout": {
          "annotationdefaults": {
           "arrowcolor": "#2a3f5f",
           "arrowhead": 0,
           "arrowwidth": 1
          },
          "autotypenumbers": "strict",
          "coloraxis": {
           "colorbar": {
            "outlinewidth": 0,
            "ticks": ""
           }
          },
          "colorscale": {
           "diverging": [
            [
             0,
             "#8e0152"
            ],
            [
             0.1,
             "#c51b7d"
            ],
            [
             0.2,
             "#de77ae"
            ],
            [
             0.3,
             "#f1b6da"
            ],
            [
             0.4,
             "#fde0ef"
            ],
            [
             0.5,
             "#f7f7f7"
            ],
            [
             0.6,
             "#e6f5d0"
            ],
            [
             0.7,
             "#b8e186"
            ],
            [
             0.8,
             "#7fbc41"
            ],
            [
             0.9,
             "#4d9221"
            ],
            [
             1,
             "#276419"
            ]
           ],
           "sequential": [
            [
             0,
             "#0d0887"
            ],
            [
             0.1111111111111111,
             "#46039f"
            ],
            [
             0.2222222222222222,
             "#7201a8"
            ],
            [
             0.3333333333333333,
             "#9c179e"
            ],
            [
             0.4444444444444444,
             "#bd3786"
            ],
            [
             0.5555555555555556,
             "#d8576b"
            ],
            [
             0.6666666666666666,
             "#ed7953"
            ],
            [
             0.7777777777777778,
             "#fb9f3a"
            ],
            [
             0.8888888888888888,
             "#fdca26"
            ],
            [
             1,
             "#f0f921"
            ]
           ],
           "sequentialminus": [
            [
             0,
             "#0d0887"
            ],
            [
             0.1111111111111111,
             "#46039f"
            ],
            [
             0.2222222222222222,
             "#7201a8"
            ],
            [
             0.3333333333333333,
             "#9c179e"
            ],
            [
             0.4444444444444444,
             "#bd3786"
            ],
            [
             0.5555555555555556,
             "#d8576b"
            ],
            [
             0.6666666666666666,
             "#ed7953"
            ],
            [
             0.7777777777777778,
             "#fb9f3a"
            ],
            [
             0.8888888888888888,
             "#fdca26"
            ],
            [
             1,
             "#f0f921"
            ]
           ]
          },
          "colorway": [
           "#636efa",
           "#EF553B",
           "#00cc96",
           "#ab63fa",
           "#FFA15A",
           "#19d3f3",
           "#FF6692",
           "#B6E880",
           "#FF97FF",
           "#FECB52"
          ],
          "font": {
           "color": "#2a3f5f"
          },
          "geo": {
           "bgcolor": "white",
           "lakecolor": "white",
           "landcolor": "#E5ECF6",
           "showlakes": true,
           "showland": true,
           "subunitcolor": "white"
          },
          "hoverlabel": {
           "align": "left"
          },
          "hovermode": "closest",
          "mapbox": {
           "style": "light"
          },
          "paper_bgcolor": "white",
          "plot_bgcolor": "#E5ECF6",
          "polar": {
           "angularaxis": {
            "gridcolor": "white",
            "linecolor": "white",
            "ticks": ""
           },
           "bgcolor": "#E5ECF6",
           "radialaxis": {
            "gridcolor": "white",
            "linecolor": "white",
            "ticks": ""
           }
          },
          "scene": {
           "xaxis": {
            "backgroundcolor": "#E5ECF6",
            "gridcolor": "white",
            "gridwidth": 2,
            "linecolor": "white",
            "showbackground": true,
            "ticks": "",
            "zerolinecolor": "white"
           },
           "yaxis": {
            "backgroundcolor": "#E5ECF6",
            "gridcolor": "white",
            "gridwidth": 2,
            "linecolor": "white",
            "showbackground": true,
            "ticks": "",
            "zerolinecolor": "white"
           },
           "zaxis": {
            "backgroundcolor": "#E5ECF6",
            "gridcolor": "white",
            "gridwidth": 2,
            "linecolor": "white",
            "showbackground": true,
            "ticks": "",
            "zerolinecolor": "white"
           }
          },
          "shapedefaults": {
           "line": {
            "color": "#2a3f5f"
           }
          },
          "ternary": {
           "aaxis": {
            "gridcolor": "white",
            "linecolor": "white",
            "ticks": ""
           },
           "baxis": {
            "gridcolor": "white",
            "linecolor": "white",
            "ticks": ""
           },
           "bgcolor": "#E5ECF6",
           "caxis": {
            "gridcolor": "white",
            "linecolor": "white",
            "ticks": ""
           }
          },
          "title": {
           "x": 0.05
          },
          "xaxis": {
           "automargin": true,
           "gridcolor": "white",
           "linecolor": "white",
           "ticks": "",
           "title": {
            "standoff": 15
           },
           "zerolinecolor": "white",
           "zerolinewidth": 2
          },
          "yaxis": {
           "automargin": true,
           "gridcolor": "white",
           "linecolor": "white",
           "ticks": "",
           "title": {
            "standoff": 15
           },
           "zerolinecolor": "white",
           "zerolinewidth": 2
          }
         }
        }
       }
      }
     },
     "metadata": {},
     "output_type": "display_data"
    }
   ],
   "source": [
    "import plotly.express as px\n",
    "\n",
    "fig = px.sunburst(data, path=['Category', 'Model'], values='Sumofsales',\n",
    "                  color='Sumofsales')\n",
    "fig.show()\n"
   ]
  },
  {
   "cell_type": "code",
   "execution_count": 77,
   "metadata": {},
   "outputs": [
    {
     "data": {
      "text/plain": [
       "Jan    60655\n",
       "Feb    73490\n",
       "Mar    76153\n",
       "Apr    73870\n",
       "May    85698\n",
       "Jun    86112\n",
       "Jul    78181\n",
       "Aug    68913\n",
       "Sep    66448\n",
       "Oct    67629\n",
       "Nov    61207\n",
       "Dec    70309\n",
       "dtype: int64"
      ]
     },
     "execution_count": 77,
     "metadata": {},
     "output_type": "execute_result"
    }
   ],
   "source": [
    "data.loc[:, 'Jan':'Dec'].sum(axis=0)"
   ]
  },
  {
   "cell_type": "code",
   "execution_count": 46,
   "metadata": {},
   "outputs": [
    {
     "data": {
      "text/html": [
       "<div>\n",
       "<style scoped>\n",
       "    .dataframe tbody tr th:only-of-type {\n",
       "        vertical-align: middle;\n",
       "    }\n",
       "\n",
       "    .dataframe tbody tr th {\n",
       "        vertical-align: top;\n",
       "    }\n",
       "\n",
       "    .dataframe thead th {\n",
       "        text-align: right;\n",
       "    }\n",
       "</style>\n",
       "<table border=\"1\" class=\"dataframe\">\n",
       "  <thead>\n",
       "    <tr style=\"text-align: right;\">\n",
       "      <th></th>\n",
       "      <th>index</th>\n",
       "      <th>0</th>\n",
       "    </tr>\n",
       "  </thead>\n",
       "  <tbody>\n",
       "    <tr>\n",
       "      <th>0</th>\n",
       "      <td>Jan</td>\n",
       "      <td>60655</td>\n",
       "    </tr>\n",
       "    <tr>\n",
       "      <th>1</th>\n",
       "      <td>Feb</td>\n",
       "      <td>73490</td>\n",
       "    </tr>\n",
       "    <tr>\n",
       "      <th>2</th>\n",
       "      <td>Mar</td>\n",
       "      <td>76153</td>\n",
       "    </tr>\n",
       "    <tr>\n",
       "      <th>3</th>\n",
       "      <td>Apr</td>\n",
       "      <td>73870</td>\n",
       "    </tr>\n",
       "    <tr>\n",
       "      <th>4</th>\n",
       "      <td>May</td>\n",
       "      <td>85698</td>\n",
       "    </tr>\n",
       "    <tr>\n",
       "      <th>5</th>\n",
       "      <td>Jun</td>\n",
       "      <td>86112</td>\n",
       "    </tr>\n",
       "    <tr>\n",
       "      <th>6</th>\n",
       "      <td>Jul</td>\n",
       "      <td>78181</td>\n",
       "    </tr>\n",
       "    <tr>\n",
       "      <th>7</th>\n",
       "      <td>Aug</td>\n",
       "      <td>68913</td>\n",
       "    </tr>\n",
       "    <tr>\n",
       "      <th>8</th>\n",
       "      <td>Sep</td>\n",
       "      <td>66448</td>\n",
       "    </tr>\n",
       "    <tr>\n",
       "      <th>9</th>\n",
       "      <td>Oct</td>\n",
       "      <td>67629</td>\n",
       "    </tr>\n",
       "    <tr>\n",
       "      <th>10</th>\n",
       "      <td>Nov</td>\n",
       "      <td>61207</td>\n",
       "    </tr>\n",
       "    <tr>\n",
       "      <th>11</th>\n",
       "      <td>Dec</td>\n",
       "      <td>70309</td>\n",
       "    </tr>\n",
       "  </tbody>\n",
       "</table>\n",
       "</div>"
      ],
      "text/plain": [
       "   index      0\n",
       "0    Jan  60655\n",
       "1    Feb  73490\n",
       "2    Mar  76153\n",
       "3    Apr  73870\n",
       "4    May  85698\n",
       "5    Jun  86112\n",
       "6    Jul  78181\n",
       "7    Aug  68913\n",
       "8    Sep  66448\n",
       "9    Oct  67629\n",
       "10   Nov  61207\n",
       "11   Dec  70309"
      ]
     },
     "execution_count": 46,
     "metadata": {},
     "output_type": "execute_result"
    }
   ],
   "source": [
    "sales_per_month = pd.DataFrame(data.loc[:, 'Jan':'Dec'].sum(axis=0))\n",
    "sales_per_month.reset_index()"
   ]
  },
  {
   "cell_type": "code",
   "execution_count": 47,
   "metadata": {},
   "outputs": [],
   "source": [
    "sales_per_month = sales_per_month.rename(columns={0: 'Sales'})\n"
   ]
  },
  {
   "cell_type": "code",
   "execution_count": 48,
   "metadata": {},
   "outputs": [
    {
     "data": {
      "text/html": [
       "<div>\n",
       "<style scoped>\n",
       "    .dataframe tbody tr th:only-of-type {\n",
       "        vertical-align: middle;\n",
       "    }\n",
       "\n",
       "    .dataframe tbody tr th {\n",
       "        vertical-align: top;\n",
       "    }\n",
       "\n",
       "    .dataframe thead th {\n",
       "        text-align: right;\n",
       "    }\n",
       "</style>\n",
       "<table border=\"1\" class=\"dataframe\">\n",
       "  <thead>\n",
       "    <tr style=\"text-align: right;\">\n",
       "      <th></th>\n",
       "      <th>index</th>\n",
       "      <th>Sales</th>\n",
       "    </tr>\n",
       "  </thead>\n",
       "  <tbody>\n",
       "    <tr>\n",
       "      <th>0</th>\n",
       "      <td>Jan</td>\n",
       "      <td>60655</td>\n",
       "    </tr>\n",
       "    <tr>\n",
       "      <th>1</th>\n",
       "      <td>Feb</td>\n",
       "      <td>73490</td>\n",
       "    </tr>\n",
       "    <tr>\n",
       "      <th>2</th>\n",
       "      <td>Mar</td>\n",
       "      <td>76153</td>\n",
       "    </tr>\n",
       "    <tr>\n",
       "      <th>3</th>\n",
       "      <td>Apr</td>\n",
       "      <td>73870</td>\n",
       "    </tr>\n",
       "    <tr>\n",
       "      <th>4</th>\n",
       "      <td>May</td>\n",
       "      <td>85698</td>\n",
       "    </tr>\n",
       "    <tr>\n",
       "      <th>5</th>\n",
       "      <td>Jun</td>\n",
       "      <td>86112</td>\n",
       "    </tr>\n",
       "    <tr>\n",
       "      <th>6</th>\n",
       "      <td>Jul</td>\n",
       "      <td>78181</td>\n",
       "    </tr>\n",
       "    <tr>\n",
       "      <th>7</th>\n",
       "      <td>Aug</td>\n",
       "      <td>68913</td>\n",
       "    </tr>\n",
       "    <tr>\n",
       "      <th>8</th>\n",
       "      <td>Sep</td>\n",
       "      <td>66448</td>\n",
       "    </tr>\n",
       "    <tr>\n",
       "      <th>9</th>\n",
       "      <td>Oct</td>\n",
       "      <td>67629</td>\n",
       "    </tr>\n",
       "    <tr>\n",
       "      <th>10</th>\n",
       "      <td>Nov</td>\n",
       "      <td>61207</td>\n",
       "    </tr>\n",
       "    <tr>\n",
       "      <th>11</th>\n",
       "      <td>Dec</td>\n",
       "      <td>70309</td>\n",
       "    </tr>\n",
       "  </tbody>\n",
       "</table>\n",
       "</div>"
      ],
      "text/plain": [
       "   index  Sales\n",
       "0    Jan  60655\n",
       "1    Feb  73490\n",
       "2    Mar  76153\n",
       "3    Apr  73870\n",
       "4    May  85698\n",
       "5    Jun  86112\n",
       "6    Jul  78181\n",
       "7    Aug  68913\n",
       "8    Sep  66448\n",
       "9    Oct  67629\n",
       "10   Nov  61207\n",
       "11   Dec  70309"
      ]
     },
     "execution_count": 48,
     "metadata": {},
     "output_type": "execute_result"
    }
   ],
   "source": [
    "sales_per_month.reset_index()"
   ]
  },
  {
   "cell_type": "code",
   "execution_count": 78,
   "metadata": {},
   "outputs": [],
   "source": [
    "months = [\"Jan\", \"Feb\", \"Mar\", \"Apr\", \"May\", \"Jun\", \"Jul\", \"Aug\", \"Sep\", \"Oct\", \"Nov\", \"Dec\"]\n",
    "sales = [60655, 73490, 76153, 73870, 85698, 86112, 78181, 68913, 66448, 67629, 61207, 70309]"
   ]
  },
  {
   "cell_type": "code",
   "execution_count": 82,
   "metadata": {},
   "outputs": [],
   "source": [
    "sales_per_month = pd.DataFrame({\"Month\": months, \"Sales\": sales})"
   ]
  },
  {
   "cell_type": "code",
   "execution_count": 83,
   "metadata": {},
   "outputs": [
    {
     "data": {
      "text/html": [
       "<div>\n",
       "<style scoped>\n",
       "    .dataframe tbody tr th:only-of-type {\n",
       "        vertical-align: middle;\n",
       "    }\n",
       "\n",
       "    .dataframe tbody tr th {\n",
       "        vertical-align: top;\n",
       "    }\n",
       "\n",
       "    .dataframe thead th {\n",
       "        text-align: right;\n",
       "    }\n",
       "</style>\n",
       "<table border=\"1\" class=\"dataframe\">\n",
       "  <thead>\n",
       "    <tr style=\"text-align: right;\">\n",
       "      <th></th>\n",
       "      <th>Month</th>\n",
       "      <th>Sales</th>\n",
       "    </tr>\n",
       "  </thead>\n",
       "  <tbody>\n",
       "    <tr>\n",
       "      <th>0</th>\n",
       "      <td>Jan</td>\n",
       "      <td>60655</td>\n",
       "    </tr>\n",
       "    <tr>\n",
       "      <th>1</th>\n",
       "      <td>Feb</td>\n",
       "      <td>73490</td>\n",
       "    </tr>\n",
       "    <tr>\n",
       "      <th>2</th>\n",
       "      <td>Mar</td>\n",
       "      <td>76153</td>\n",
       "    </tr>\n",
       "    <tr>\n",
       "      <th>3</th>\n",
       "      <td>Apr</td>\n",
       "      <td>73870</td>\n",
       "    </tr>\n",
       "    <tr>\n",
       "      <th>4</th>\n",
       "      <td>May</td>\n",
       "      <td>85698</td>\n",
       "    </tr>\n",
       "    <tr>\n",
       "      <th>5</th>\n",
       "      <td>Jun</td>\n",
       "      <td>86112</td>\n",
       "    </tr>\n",
       "    <tr>\n",
       "      <th>6</th>\n",
       "      <td>Jul</td>\n",
       "      <td>78181</td>\n",
       "    </tr>\n",
       "    <tr>\n",
       "      <th>7</th>\n",
       "      <td>Aug</td>\n",
       "      <td>68913</td>\n",
       "    </tr>\n",
       "    <tr>\n",
       "      <th>8</th>\n",
       "      <td>Sep</td>\n",
       "      <td>66448</td>\n",
       "    </tr>\n",
       "    <tr>\n",
       "      <th>9</th>\n",
       "      <td>Oct</td>\n",
       "      <td>67629</td>\n",
       "    </tr>\n",
       "    <tr>\n",
       "      <th>10</th>\n",
       "      <td>Nov</td>\n",
       "      <td>61207</td>\n",
       "    </tr>\n",
       "    <tr>\n",
       "      <th>11</th>\n",
       "      <td>Dec</td>\n",
       "      <td>70309</td>\n",
       "    </tr>\n",
       "  </tbody>\n",
       "</table>\n",
       "</div>"
      ],
      "text/plain": [
       "   Month  Sales\n",
       "0    Jan  60655\n",
       "1    Feb  73490\n",
       "2    Mar  76153\n",
       "3    Apr  73870\n",
       "4    May  85698\n",
       "5    Jun  86112\n",
       "6    Jul  78181\n",
       "7    Aug  68913\n",
       "8    Sep  66448\n",
       "9    Oct  67629\n",
       "10   Nov  61207\n",
       "11   Dec  70309"
      ]
     },
     "execution_count": 83,
     "metadata": {},
     "output_type": "execute_result"
    }
   ],
   "source": [
    "sales_per_month"
   ]
  },
  {
   "attachments": {},
   "cell_type": "markdown",
   "metadata": {},
   "source": [
    "### Analyzing vehicle sales by month"
   ]
  },
  {
   "cell_type": "code",
   "execution_count": 84,
   "metadata": {},
   "outputs": [
    {
     "data": {
      "application/vnd.plotly.v1+json": {
       "config": {
        "plotlyServerURL": "https://plot.ly"
       },
       "data": [
        {
         "hovertemplate": "Month=%{x}<br>Sales=%{y}<extra></extra>",
         "legendgroup": "",
         "line": {
          "color": "#636efa",
          "dash": "solid"
         },
         "marker": {
          "symbol": "circle"
         },
         "mode": "lines",
         "name": "",
         "orientation": "v",
         "showlegend": false,
         "type": "scatter",
         "x": [
          "Jan",
          "Feb",
          "Mar",
          "Apr",
          "May",
          "Jun",
          "Jul",
          "Aug",
          "Sep",
          "Oct",
          "Nov",
          "Dec"
         ],
         "xaxis": "x",
         "y": [
          60655,
          73490,
          76153,
          73870,
          85698,
          86112,
          78181,
          68913,
          66448,
          67629,
          61207,
          70309
         ],
         "yaxis": "y"
        }
       ],
       "layout": {
        "legend": {
         "tracegroupgap": 0
        },
        "margin": {
         "t": 60
        },
        "template": {
         "data": {
          "bar": [
           {
            "error_x": {
             "color": "#2a3f5f"
            },
            "error_y": {
             "color": "#2a3f5f"
            },
            "marker": {
             "line": {
              "color": "#E5ECF6",
              "width": 0.5
             },
             "pattern": {
              "fillmode": "overlay",
              "size": 10,
              "solidity": 0.2
             }
            },
            "type": "bar"
           }
          ],
          "barpolar": [
           {
            "marker": {
             "line": {
              "color": "#E5ECF6",
              "width": 0.5
             },
             "pattern": {
              "fillmode": "overlay",
              "size": 10,
              "solidity": 0.2
             }
            },
            "type": "barpolar"
           }
          ],
          "carpet": [
           {
            "aaxis": {
             "endlinecolor": "#2a3f5f",
             "gridcolor": "white",
             "linecolor": "white",
             "minorgridcolor": "white",
             "startlinecolor": "#2a3f5f"
            },
            "baxis": {
             "endlinecolor": "#2a3f5f",
             "gridcolor": "white",
             "linecolor": "white",
             "minorgridcolor": "white",
             "startlinecolor": "#2a3f5f"
            },
            "type": "carpet"
           }
          ],
          "choropleth": [
           {
            "colorbar": {
             "outlinewidth": 0,
             "ticks": ""
            },
            "type": "choropleth"
           }
          ],
          "contour": [
           {
            "colorbar": {
             "outlinewidth": 0,
             "ticks": ""
            },
            "colorscale": [
             [
              0,
              "#0d0887"
             ],
             [
              0.1111111111111111,
              "#46039f"
             ],
             [
              0.2222222222222222,
              "#7201a8"
             ],
             [
              0.3333333333333333,
              "#9c179e"
             ],
             [
              0.4444444444444444,
              "#bd3786"
             ],
             [
              0.5555555555555556,
              "#d8576b"
             ],
             [
              0.6666666666666666,
              "#ed7953"
             ],
             [
              0.7777777777777778,
              "#fb9f3a"
             ],
             [
              0.8888888888888888,
              "#fdca26"
             ],
             [
              1,
              "#f0f921"
             ]
            ],
            "type": "contour"
           }
          ],
          "contourcarpet": [
           {
            "colorbar": {
             "outlinewidth": 0,
             "ticks": ""
            },
            "type": "contourcarpet"
           }
          ],
          "heatmap": [
           {
            "colorbar": {
             "outlinewidth": 0,
             "ticks": ""
            },
            "colorscale": [
             [
              0,
              "#0d0887"
             ],
             [
              0.1111111111111111,
              "#46039f"
             ],
             [
              0.2222222222222222,
              "#7201a8"
             ],
             [
              0.3333333333333333,
              "#9c179e"
             ],
             [
              0.4444444444444444,
              "#bd3786"
             ],
             [
              0.5555555555555556,
              "#d8576b"
             ],
             [
              0.6666666666666666,
              "#ed7953"
             ],
             [
              0.7777777777777778,
              "#fb9f3a"
             ],
             [
              0.8888888888888888,
              "#fdca26"
             ],
             [
              1,
              "#f0f921"
             ]
            ],
            "type": "heatmap"
           }
          ],
          "heatmapgl": [
           {
            "colorbar": {
             "outlinewidth": 0,
             "ticks": ""
            },
            "colorscale": [
             [
              0,
              "#0d0887"
             ],
             [
              0.1111111111111111,
              "#46039f"
             ],
             [
              0.2222222222222222,
              "#7201a8"
             ],
             [
              0.3333333333333333,
              "#9c179e"
             ],
             [
              0.4444444444444444,
              "#bd3786"
             ],
             [
              0.5555555555555556,
              "#d8576b"
             ],
             [
              0.6666666666666666,
              "#ed7953"
             ],
             [
              0.7777777777777778,
              "#fb9f3a"
             ],
             [
              0.8888888888888888,
              "#fdca26"
             ],
             [
              1,
              "#f0f921"
             ]
            ],
            "type": "heatmapgl"
           }
          ],
          "histogram": [
           {
            "marker": {
             "pattern": {
              "fillmode": "overlay",
              "size": 10,
              "solidity": 0.2
             }
            },
            "type": "histogram"
           }
          ],
          "histogram2d": [
           {
            "colorbar": {
             "outlinewidth": 0,
             "ticks": ""
            },
            "colorscale": [
             [
              0,
              "#0d0887"
             ],
             [
              0.1111111111111111,
              "#46039f"
             ],
             [
              0.2222222222222222,
              "#7201a8"
             ],
             [
              0.3333333333333333,
              "#9c179e"
             ],
             [
              0.4444444444444444,
              "#bd3786"
             ],
             [
              0.5555555555555556,
              "#d8576b"
             ],
             [
              0.6666666666666666,
              "#ed7953"
             ],
             [
              0.7777777777777778,
              "#fb9f3a"
             ],
             [
              0.8888888888888888,
              "#fdca26"
             ],
             [
              1,
              "#f0f921"
             ]
            ],
            "type": "histogram2d"
           }
          ],
          "histogram2dcontour": [
           {
            "colorbar": {
             "outlinewidth": 0,
             "ticks": ""
            },
            "colorscale": [
             [
              0,
              "#0d0887"
             ],
             [
              0.1111111111111111,
              "#46039f"
             ],
             [
              0.2222222222222222,
              "#7201a8"
             ],
             [
              0.3333333333333333,
              "#9c179e"
             ],
             [
              0.4444444444444444,
              "#bd3786"
             ],
             [
              0.5555555555555556,
              "#d8576b"
             ],
             [
              0.6666666666666666,
              "#ed7953"
             ],
             [
              0.7777777777777778,
              "#fb9f3a"
             ],
             [
              0.8888888888888888,
              "#fdca26"
             ],
             [
              1,
              "#f0f921"
             ]
            ],
            "type": "histogram2dcontour"
           }
          ],
          "mesh3d": [
           {
            "colorbar": {
             "outlinewidth": 0,
             "ticks": ""
            },
            "type": "mesh3d"
           }
          ],
          "parcoords": [
           {
            "line": {
             "colorbar": {
              "outlinewidth": 0,
              "ticks": ""
             }
            },
            "type": "parcoords"
           }
          ],
          "pie": [
           {
            "automargin": true,
            "type": "pie"
           }
          ],
          "scatter": [
           {
            "fillpattern": {
             "fillmode": "overlay",
             "size": 10,
             "solidity": 0.2
            },
            "type": "scatter"
           }
          ],
          "scatter3d": [
           {
            "line": {
             "colorbar": {
              "outlinewidth": 0,
              "ticks": ""
             }
            },
            "marker": {
             "colorbar": {
              "outlinewidth": 0,
              "ticks": ""
             }
            },
            "type": "scatter3d"
           }
          ],
          "scattercarpet": [
           {
            "marker": {
             "colorbar": {
              "outlinewidth": 0,
              "ticks": ""
             }
            },
            "type": "scattercarpet"
           }
          ],
          "scattergeo": [
           {
            "marker": {
             "colorbar": {
              "outlinewidth": 0,
              "ticks": ""
             }
            },
            "type": "scattergeo"
           }
          ],
          "scattergl": [
           {
            "marker": {
             "colorbar": {
              "outlinewidth": 0,
              "ticks": ""
             }
            },
            "type": "scattergl"
           }
          ],
          "scattermapbox": [
           {
            "marker": {
             "colorbar": {
              "outlinewidth": 0,
              "ticks": ""
             }
            },
            "type": "scattermapbox"
           }
          ],
          "scatterpolar": [
           {
            "marker": {
             "colorbar": {
              "outlinewidth": 0,
              "ticks": ""
             }
            },
            "type": "scatterpolar"
           }
          ],
          "scatterpolargl": [
           {
            "marker": {
             "colorbar": {
              "outlinewidth": 0,
              "ticks": ""
             }
            },
            "type": "scatterpolargl"
           }
          ],
          "scatterternary": [
           {
            "marker": {
             "colorbar": {
              "outlinewidth": 0,
              "ticks": ""
             }
            },
            "type": "scatterternary"
           }
          ],
          "surface": [
           {
            "colorbar": {
             "outlinewidth": 0,
             "ticks": ""
            },
            "colorscale": [
             [
              0,
              "#0d0887"
             ],
             [
              0.1111111111111111,
              "#46039f"
             ],
             [
              0.2222222222222222,
              "#7201a8"
             ],
             [
              0.3333333333333333,
              "#9c179e"
             ],
             [
              0.4444444444444444,
              "#bd3786"
             ],
             [
              0.5555555555555556,
              "#d8576b"
             ],
             [
              0.6666666666666666,
              "#ed7953"
             ],
             [
              0.7777777777777778,
              "#fb9f3a"
             ],
             [
              0.8888888888888888,
              "#fdca26"
             ],
             [
              1,
              "#f0f921"
             ]
            ],
            "type": "surface"
           }
          ],
          "table": [
           {
            "cells": {
             "fill": {
              "color": "#EBF0F8"
             },
             "line": {
              "color": "white"
             }
            },
            "header": {
             "fill": {
              "color": "#C8D4E3"
             },
             "line": {
              "color": "white"
             }
            },
            "type": "table"
           }
          ]
         },
         "layout": {
          "annotationdefaults": {
           "arrowcolor": "#2a3f5f",
           "arrowhead": 0,
           "arrowwidth": 1
          },
          "autotypenumbers": "strict",
          "coloraxis": {
           "colorbar": {
            "outlinewidth": 0,
            "ticks": ""
           }
          },
          "colorscale": {
           "diverging": [
            [
             0,
             "#8e0152"
            ],
            [
             0.1,
             "#c51b7d"
            ],
            [
             0.2,
             "#de77ae"
            ],
            [
             0.3,
             "#f1b6da"
            ],
            [
             0.4,
             "#fde0ef"
            ],
            [
             0.5,
             "#f7f7f7"
            ],
            [
             0.6,
             "#e6f5d0"
            ],
            [
             0.7,
             "#b8e186"
            ],
            [
             0.8,
             "#7fbc41"
            ],
            [
             0.9,
             "#4d9221"
            ],
            [
             1,
             "#276419"
            ]
           ],
           "sequential": [
            [
             0,
             "#0d0887"
            ],
            [
             0.1111111111111111,
             "#46039f"
            ],
            [
             0.2222222222222222,
             "#7201a8"
            ],
            [
             0.3333333333333333,
             "#9c179e"
            ],
            [
             0.4444444444444444,
             "#bd3786"
            ],
            [
             0.5555555555555556,
             "#d8576b"
            ],
            [
             0.6666666666666666,
             "#ed7953"
            ],
            [
             0.7777777777777778,
             "#fb9f3a"
            ],
            [
             0.8888888888888888,
             "#fdca26"
            ],
            [
             1,
             "#f0f921"
            ]
           ],
           "sequentialminus": [
            [
             0,
             "#0d0887"
            ],
            [
             0.1111111111111111,
             "#46039f"
            ],
            [
             0.2222222222222222,
             "#7201a8"
            ],
            [
             0.3333333333333333,
             "#9c179e"
            ],
            [
             0.4444444444444444,
             "#bd3786"
            ],
            [
             0.5555555555555556,
             "#d8576b"
            ],
            [
             0.6666666666666666,
             "#ed7953"
            ],
            [
             0.7777777777777778,
             "#fb9f3a"
            ],
            [
             0.8888888888888888,
             "#fdca26"
            ],
            [
             1,
             "#f0f921"
            ]
           ]
          },
          "colorway": [
           "#636efa",
           "#EF553B",
           "#00cc96",
           "#ab63fa",
           "#FFA15A",
           "#19d3f3",
           "#FF6692",
           "#B6E880",
           "#FF97FF",
           "#FECB52"
          ],
          "font": {
           "color": "#2a3f5f"
          },
          "geo": {
           "bgcolor": "white",
           "lakecolor": "white",
           "landcolor": "#E5ECF6",
           "showlakes": true,
           "showland": true,
           "subunitcolor": "white"
          },
          "hoverlabel": {
           "align": "left"
          },
          "hovermode": "closest",
          "mapbox": {
           "style": "light"
          },
          "paper_bgcolor": "white",
          "plot_bgcolor": "#E5ECF6",
          "polar": {
           "angularaxis": {
            "gridcolor": "white",
            "linecolor": "white",
            "ticks": ""
           },
           "bgcolor": "#E5ECF6",
           "radialaxis": {
            "gridcolor": "white",
            "linecolor": "white",
            "ticks": ""
           }
          },
          "scene": {
           "xaxis": {
            "backgroundcolor": "#E5ECF6",
            "gridcolor": "white",
            "gridwidth": 2,
            "linecolor": "white",
            "showbackground": true,
            "ticks": "",
            "zerolinecolor": "white"
           },
           "yaxis": {
            "backgroundcolor": "#E5ECF6",
            "gridcolor": "white",
            "gridwidth": 2,
            "linecolor": "white",
            "showbackground": true,
            "ticks": "",
            "zerolinecolor": "white"
           },
           "zaxis": {
            "backgroundcolor": "#E5ECF6",
            "gridcolor": "white",
            "gridwidth": 2,
            "linecolor": "white",
            "showbackground": true,
            "ticks": "",
            "zerolinecolor": "white"
           }
          },
          "shapedefaults": {
           "line": {
            "color": "#2a3f5f"
           }
          },
          "ternary": {
           "aaxis": {
            "gridcolor": "white",
            "linecolor": "white",
            "ticks": ""
           },
           "baxis": {
            "gridcolor": "white",
            "linecolor": "white",
            "ticks": ""
           },
           "bgcolor": "#E5ECF6",
           "caxis": {
            "gridcolor": "white",
            "linecolor": "white",
            "ticks": ""
           }
          },
          "title": {
           "x": 0.05
          },
          "xaxis": {
           "automargin": true,
           "gridcolor": "white",
           "linecolor": "white",
           "ticks": "",
           "title": {
            "standoff": 15
           },
           "zerolinecolor": "white",
           "zerolinewidth": 2
          },
          "yaxis": {
           "automargin": true,
           "gridcolor": "white",
           "linecolor": "white",
           "ticks": "",
           "title": {
            "standoff": 15
           },
           "zerolinecolor": "white",
           "zerolinewidth": 2
          }
         }
        },
        "xaxis": {
         "anchor": "y",
         "domain": [
          0,
          1
         ],
         "title": {
          "text": "Month"
         }
        },
        "yaxis": {
         "anchor": "x",
         "domain": [
          0,
          1
         ],
         "title": {
          "text": "Sales"
         }
        }
       }
      }
     },
     "metadata": {},
     "output_type": "display_data"
    }
   ],
   "source": [
    "fig = px.line(sales_per_month, x=\"Month\", y=\"Sales\")\n",
    "fig.show()"
   ]
  },
  {
   "attachments": {},
   "cell_type": "markdown",
   "metadata": {},
   "source": [
    "### Conclusions: The months with the biggest number of sales are May and June, and the vehicle category chosen by Canadian customers is midsize SUVs. Jeep is the most popular brand among consumers."
   ]
  },
  {
   "attachments": {},
   "cell_type": "markdown",
   "metadata": {},
   "source": []
  }
 ],
 "metadata": {
  "kernelspec": {
   "display_name": "Python 3 (ipykernel)",
   "language": "python",
   "name": "python3"
  },
  "language_info": {
   "codemirror_mode": {
    "name": "ipython",
    "version": 3
   },
   "file_extension": ".py",
   "mimetype": "text/x-python",
   "name": "python",
   "nbconvert_exporter": "python",
   "pygments_lexer": "ipython3",
   "version": "3.11.3"
  }
 },
 "nbformat": 4,
 "nbformat_minor": 4
}
